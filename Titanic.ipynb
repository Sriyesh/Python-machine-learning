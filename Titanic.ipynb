{
  "nbformat": 4,
  "nbformat_minor": 0,
  "metadata": {
    "colab": {
      "name": "Titanic.ipynb",
      "version": "0.3.2",
      "provenance": [],
      "collapsed_sections": [],
      "include_colab_link": true
    },
    "kernelspec": {
      "name": "python3",
      "display_name": "Python 3"
    },
    "accelerator": "GPU"
  },
  "cells": [
    {
      "cell_type": "markdown",
      "metadata": {
        "id": "view-in-github",
        "colab_type": "text"
      },
      "source": [
        "[View in Colaboratory](https://colab.research.google.com/github/Sriyesh/Python-machine-learning/blob/master/Titanic.ipynb)"
      ]
    },
    {
      "metadata": {
        "id": "Y9vgLCYK8i3h",
        "colab_type": "text"
      },
      "cell_type": "markdown",
      "source": [
        "#Titanic Survival Predictoion For Beginners\n",
        "I am a newbie to machine learning. This project is my first attempt on any dataset (Titanic: Machine Learning from Disaster dataset). I will try my level best to way you through every step. If you find this useful please consider upvoting."
      ]
    },
    {
      "metadata": {
        "id": "hLIY2rPc9wRB",
        "colab_type": "text"
      },
      "cell_type": "markdown",
      "source": [
        "##Contents:\n",
        "\n",
        "\n",
        "1.   Import Necessary Libraries\n",
        "2.   Read and Explore the data\n",
        "3.   Data Analysis\n",
        "4.   Data Visualization\n",
        "5.   Cleaning Data\n",
        "6.   Selecting the Model\n",
        "7.   Creating Submission File\n",
        "\n",
        "####I have used google's colab for my program. Any and all feedback is welcome!\n",
        "\n"
      ]
    },
    {
      "metadata": {
        "id": "uDuEBqdtKVBg",
        "colab_type": "code",
        "colab": {}
      },
      "cell_type": "code",
      "source": [
        "#this is to access data set stored in google drive\n",
        "!pip install pydrive\n",
        "from google.colab import auth\n",
        "auth.authenticate_user()\n",
        "\n",
        "from pydrive.drive import GoogleDrive\n",
        "from pydrive.auth import GoogleAuth\n",
        "from oauth2client.client import GoogleCredentials\n",
        "gauth = GoogleAuth()\n",
        "gauth.credentials = GoogleCredentials.get_application_default()\n",
        "drive = GoogleDrive(gauth)\n",
        "\n",
        "myfile = drive.CreateFile({'id': '1P5TEV4hmUYFEKaS7TFa6ov8ykkK2cp3e'})\n",
        "myfile2 = drive.CreateFile({'id': '1n3SVpNQXGqhJDSn53uix3UJU6LbYw6t7'})\n",
        "myfile.GetContentFile('train.csv')\n",
        "myfile2.GetContentFile('test.csv')\n"
      ],
      "execution_count": 0,
      "outputs": []
    },
    {
      "metadata": {
        "id": "Vvevrb2-7a37",
        "colab_type": "text"
      },
      "cell_type": "markdown",
      "source": [
        "# **1) Import Necessary Library**\n",
        "We will use numpy for numerical calculation, pandas for manupulation of data, matplotlib and seaborn for visualization. %matplotlib inline will make your plot outputs appear and be stored within the notebook"
      ]
    },
    {
      "metadata": {
        "id": "XRADthjy7XeC",
        "colab_type": "code",
        "colab": {}
      },
      "cell_type": "code",
      "source": [
        "# data analysis library\n",
        "import numpy as np\n",
        "import pandas as pd\n",
        "\n",
        "# Visuvalization library\n",
        "import matplotlib.pyplot as plt\n",
        "import seaborn as sns\n",
        "%matplotlib inline\n",
        "\n",
        "#ignore warnings\n",
        "import warnings \n",
        "warnings.filterwarnings('ignore')\n"
      ],
      "execution_count": 0,
      "outputs": []
    },
    {
      "metadata": {
        "id": "Gk4quge09oG1",
        "colab_type": "text"
      },
      "cell_type": "markdown",
      "source": [
        "#2) Read And Explore Data\n",
        "we will use  pd.read_csv  function to read data from a csv file and store it in a data frame(train).\n",
        "View the first 3 entries of the tain using train.head(3) "
      ]
    },
    {
      "metadata": {
        "id": "H1ae_tqz_ajl",
        "colab_type": "code",
        "colab": {
          "base_uri": "https://localhost:8080/",
          "height": 137
        },
        "outputId": "bce9539b-c46e-4ecc-f1b9-4e8a95e53cc7"
      },
      "cell_type": "code",
      "source": [
        "# import train and test CSV files\n",
        "train = pd.read_csv('train.csv')\n",
        "test = pd.read_csv('test.csv')\n",
        "\n",
        "#see the first 3 rows of train\n",
        "train.head(3)"
      ],
      "execution_count": 4,
      "outputs": [
        {
          "output_type": "execute_result",
          "data": {
            "text/html": [
              "<div>\n",
              "<style scoped>\n",
              "    .dataframe tbody tr th:only-of-type {\n",
              "        vertical-align: middle;\n",
              "    }\n",
              "\n",
              "    .dataframe tbody tr th {\n",
              "        vertical-align: top;\n",
              "    }\n",
              "\n",
              "    .dataframe thead th {\n",
              "        text-align: right;\n",
              "    }\n",
              "</style>\n",
              "<table border=\"1\" class=\"dataframe\">\n",
              "  <thead>\n",
              "    <tr style=\"text-align: right;\">\n",
              "      <th></th>\n",
              "      <th>PassengerId</th>\n",
              "      <th>Survived</th>\n",
              "      <th>Pclass</th>\n",
              "      <th>Name</th>\n",
              "      <th>Sex</th>\n",
              "      <th>Age</th>\n",
              "      <th>SibSp</th>\n",
              "      <th>Parch</th>\n",
              "      <th>Ticket</th>\n",
              "      <th>Fare</th>\n",
              "      <th>Cabin</th>\n",
              "      <th>Embarked</th>\n",
              "    </tr>\n",
              "  </thead>\n",
              "  <tbody>\n",
              "    <tr>\n",
              "      <th>0</th>\n",
              "      <td>1</td>\n",
              "      <td>0</td>\n",
              "      <td>3</td>\n",
              "      <td>Braund, Mr. Owen Harris</td>\n",
              "      <td>male</td>\n",
              "      <td>22.0</td>\n",
              "      <td>1</td>\n",
              "      <td>0</td>\n",
              "      <td>A/5 21171</td>\n",
              "      <td>7.2500</td>\n",
              "      <td>NaN</td>\n",
              "      <td>S</td>\n",
              "    </tr>\n",
              "    <tr>\n",
              "      <th>1</th>\n",
              "      <td>2</td>\n",
              "      <td>1</td>\n",
              "      <td>1</td>\n",
              "      <td>Cumings, Mrs. John Bradley (Florence Briggs Th...</td>\n",
              "      <td>female</td>\n",
              "      <td>38.0</td>\n",
              "      <td>1</td>\n",
              "      <td>0</td>\n",
              "      <td>PC 17599</td>\n",
              "      <td>71.2833</td>\n",
              "      <td>C85</td>\n",
              "      <td>C</td>\n",
              "    </tr>\n",
              "    <tr>\n",
              "      <th>2</th>\n",
              "      <td>3</td>\n",
              "      <td>1</td>\n",
              "      <td>3</td>\n",
              "      <td>Heikkinen, Miss. Laina</td>\n",
              "      <td>female</td>\n",
              "      <td>26.0</td>\n",
              "      <td>0</td>\n",
              "      <td>0</td>\n",
              "      <td>STON/O2. 3101282</td>\n",
              "      <td>7.9250</td>\n",
              "      <td>NaN</td>\n",
              "      <td>S</td>\n",
              "    </tr>\n",
              "  </tbody>\n",
              "</table>\n",
              "</div>"
            ],
            "text/plain": [
              "   PassengerId  Survived  Pclass  \\\n",
              "0            1         0       3   \n",
              "1            2         1       1   \n",
              "2            3         1       3   \n",
              "\n",
              "                                                Name     Sex   Age  SibSp  \\\n",
              "0                            Braund, Mr. Owen Harris    male  22.0      1   \n",
              "1  Cumings, Mrs. John Bradley (Florence Briggs Th...  female  38.0      1   \n",
              "2                             Heikkinen, Miss. Laina  female  26.0      0   \n",
              "\n",
              "   Parch            Ticket     Fare Cabin Embarked  \n",
              "0      0         A/5 21171   7.2500   NaN        S  \n",
              "1      0          PC 17599  71.2833   C85        C  \n",
              "2      0  STON/O2. 3101282   7.9250   NaN        S  "
            ]
          },
          "metadata": {
            "tags": []
          },
          "execution_count": 4
        }
      ]
    },
    {
      "metadata": {
        "id": "a3tT3qYB_e3C",
        "colab_type": "code",
        "colab": {
          "base_uri": "https://localhost:8080/",
          "height": 377
        },
        "outputId": "897863db-fee4-4f73-9a13-ac14af964d62"
      },
      "cell_type": "code",
      "source": [
        "#Look into the training data\n",
        "train.describe(include='all')"
      ],
      "execution_count": 5,
      "outputs": [
        {
          "output_type": "execute_result",
          "data": {
            "text/html": [
              "<div>\n",
              "<style scoped>\n",
              "    .dataframe tbody tr th:only-of-type {\n",
              "        vertical-align: middle;\n",
              "    }\n",
              "\n",
              "    .dataframe tbody tr th {\n",
              "        vertical-align: top;\n",
              "    }\n",
              "\n",
              "    .dataframe thead th {\n",
              "        text-align: right;\n",
              "    }\n",
              "</style>\n",
              "<table border=\"1\" class=\"dataframe\">\n",
              "  <thead>\n",
              "    <tr style=\"text-align: right;\">\n",
              "      <th></th>\n",
              "      <th>PassengerId</th>\n",
              "      <th>Survived</th>\n",
              "      <th>Pclass</th>\n",
              "      <th>Name</th>\n",
              "      <th>Sex</th>\n",
              "      <th>Age</th>\n",
              "      <th>SibSp</th>\n",
              "      <th>Parch</th>\n",
              "      <th>Ticket</th>\n",
              "      <th>Fare</th>\n",
              "      <th>Cabin</th>\n",
              "      <th>Embarked</th>\n",
              "    </tr>\n",
              "  </thead>\n",
              "  <tbody>\n",
              "    <tr>\n",
              "      <th>count</th>\n",
              "      <td>891.000000</td>\n",
              "      <td>891.000000</td>\n",
              "      <td>891.000000</td>\n",
              "      <td>891</td>\n",
              "      <td>891</td>\n",
              "      <td>714.000000</td>\n",
              "      <td>891.000000</td>\n",
              "      <td>891.000000</td>\n",
              "      <td>891</td>\n",
              "      <td>891.000000</td>\n",
              "      <td>204</td>\n",
              "      <td>889</td>\n",
              "    </tr>\n",
              "    <tr>\n",
              "      <th>unique</th>\n",
              "      <td>NaN</td>\n",
              "      <td>NaN</td>\n",
              "      <td>NaN</td>\n",
              "      <td>891</td>\n",
              "      <td>2</td>\n",
              "      <td>NaN</td>\n",
              "      <td>NaN</td>\n",
              "      <td>NaN</td>\n",
              "      <td>681</td>\n",
              "      <td>NaN</td>\n",
              "      <td>147</td>\n",
              "      <td>3</td>\n",
              "    </tr>\n",
              "    <tr>\n",
              "      <th>top</th>\n",
              "      <td>NaN</td>\n",
              "      <td>NaN</td>\n",
              "      <td>NaN</td>\n",
              "      <td>Hickman, Mr. Lewis</td>\n",
              "      <td>male</td>\n",
              "      <td>NaN</td>\n",
              "      <td>NaN</td>\n",
              "      <td>NaN</td>\n",
              "      <td>1601</td>\n",
              "      <td>NaN</td>\n",
              "      <td>B96 B98</td>\n",
              "      <td>S</td>\n",
              "    </tr>\n",
              "    <tr>\n",
              "      <th>freq</th>\n",
              "      <td>NaN</td>\n",
              "      <td>NaN</td>\n",
              "      <td>NaN</td>\n",
              "      <td>1</td>\n",
              "      <td>577</td>\n",
              "      <td>NaN</td>\n",
              "      <td>NaN</td>\n",
              "      <td>NaN</td>\n",
              "      <td>7</td>\n",
              "      <td>NaN</td>\n",
              "      <td>4</td>\n",
              "      <td>644</td>\n",
              "    </tr>\n",
              "    <tr>\n",
              "      <th>mean</th>\n",
              "      <td>446.000000</td>\n",
              "      <td>0.383838</td>\n",
              "      <td>2.308642</td>\n",
              "      <td>NaN</td>\n",
              "      <td>NaN</td>\n",
              "      <td>29.699118</td>\n",
              "      <td>0.523008</td>\n",
              "      <td>0.381594</td>\n",
              "      <td>NaN</td>\n",
              "      <td>32.204208</td>\n",
              "      <td>NaN</td>\n",
              "      <td>NaN</td>\n",
              "    </tr>\n",
              "    <tr>\n",
              "      <th>std</th>\n",
              "      <td>257.353842</td>\n",
              "      <td>0.486592</td>\n",
              "      <td>0.836071</td>\n",
              "      <td>NaN</td>\n",
              "      <td>NaN</td>\n",
              "      <td>14.526497</td>\n",
              "      <td>1.102743</td>\n",
              "      <td>0.806057</td>\n",
              "      <td>NaN</td>\n",
              "      <td>49.693429</td>\n",
              "      <td>NaN</td>\n",
              "      <td>NaN</td>\n",
              "    </tr>\n",
              "    <tr>\n",
              "      <th>min</th>\n",
              "      <td>1.000000</td>\n",
              "      <td>0.000000</td>\n",
              "      <td>1.000000</td>\n",
              "      <td>NaN</td>\n",
              "      <td>NaN</td>\n",
              "      <td>0.420000</td>\n",
              "      <td>0.000000</td>\n",
              "      <td>0.000000</td>\n",
              "      <td>NaN</td>\n",
              "      <td>0.000000</td>\n",
              "      <td>NaN</td>\n",
              "      <td>NaN</td>\n",
              "    </tr>\n",
              "    <tr>\n",
              "      <th>25%</th>\n",
              "      <td>223.500000</td>\n",
              "      <td>0.000000</td>\n",
              "      <td>2.000000</td>\n",
              "      <td>NaN</td>\n",
              "      <td>NaN</td>\n",
              "      <td>20.125000</td>\n",
              "      <td>0.000000</td>\n",
              "      <td>0.000000</td>\n",
              "      <td>NaN</td>\n",
              "      <td>7.910400</td>\n",
              "      <td>NaN</td>\n",
              "      <td>NaN</td>\n",
              "    </tr>\n",
              "    <tr>\n",
              "      <th>50%</th>\n",
              "      <td>446.000000</td>\n",
              "      <td>0.000000</td>\n",
              "      <td>3.000000</td>\n",
              "      <td>NaN</td>\n",
              "      <td>NaN</td>\n",
              "      <td>28.000000</td>\n",
              "      <td>0.000000</td>\n",
              "      <td>0.000000</td>\n",
              "      <td>NaN</td>\n",
              "      <td>14.454200</td>\n",
              "      <td>NaN</td>\n",
              "      <td>NaN</td>\n",
              "    </tr>\n",
              "    <tr>\n",
              "      <th>75%</th>\n",
              "      <td>668.500000</td>\n",
              "      <td>1.000000</td>\n",
              "      <td>3.000000</td>\n",
              "      <td>NaN</td>\n",
              "      <td>NaN</td>\n",
              "      <td>38.000000</td>\n",
              "      <td>1.000000</td>\n",
              "      <td>0.000000</td>\n",
              "      <td>NaN</td>\n",
              "      <td>31.000000</td>\n",
              "      <td>NaN</td>\n",
              "      <td>NaN</td>\n",
              "    </tr>\n",
              "    <tr>\n",
              "      <th>max</th>\n",
              "      <td>891.000000</td>\n",
              "      <td>1.000000</td>\n",
              "      <td>3.000000</td>\n",
              "      <td>NaN</td>\n",
              "      <td>NaN</td>\n",
              "      <td>80.000000</td>\n",
              "      <td>8.000000</td>\n",
              "      <td>6.000000</td>\n",
              "      <td>NaN</td>\n",
              "      <td>512.329200</td>\n",
              "      <td>NaN</td>\n",
              "      <td>NaN</td>\n",
              "    </tr>\n",
              "  </tbody>\n",
              "</table>\n",
              "</div>"
            ],
            "text/plain": [
              "        PassengerId    Survived      Pclass                Name   Sex  \\\n",
              "count    891.000000  891.000000  891.000000                 891   891   \n",
              "unique          NaN         NaN         NaN                 891     2   \n",
              "top             NaN         NaN         NaN  Hickman, Mr. Lewis  male   \n",
              "freq            NaN         NaN         NaN                   1   577   \n",
              "mean     446.000000    0.383838    2.308642                 NaN   NaN   \n",
              "std      257.353842    0.486592    0.836071                 NaN   NaN   \n",
              "min        1.000000    0.000000    1.000000                 NaN   NaN   \n",
              "25%      223.500000    0.000000    2.000000                 NaN   NaN   \n",
              "50%      446.000000    0.000000    3.000000                 NaN   NaN   \n",
              "75%      668.500000    1.000000    3.000000                 NaN   NaN   \n",
              "max      891.000000    1.000000    3.000000                 NaN   NaN   \n",
              "\n",
              "               Age       SibSp       Parch Ticket        Fare    Cabin  \\\n",
              "count   714.000000  891.000000  891.000000    891  891.000000      204   \n",
              "unique         NaN         NaN         NaN    681         NaN      147   \n",
              "top            NaN         NaN         NaN   1601         NaN  B96 B98   \n",
              "freq           NaN         NaN         NaN      7         NaN        4   \n",
              "mean     29.699118    0.523008    0.381594    NaN   32.204208      NaN   \n",
              "std      14.526497    1.102743    0.806057    NaN   49.693429      NaN   \n",
              "min       0.420000    0.000000    0.000000    NaN    0.000000      NaN   \n",
              "25%      20.125000    0.000000    0.000000    NaN    7.910400      NaN   \n",
              "50%      28.000000    0.000000    0.000000    NaN   14.454200      NaN   \n",
              "75%      38.000000    1.000000    0.000000    NaN   31.000000      NaN   \n",
              "max      80.000000    8.000000    6.000000    NaN  512.329200      NaN   \n",
              "\n",
              "       Embarked  \n",
              "count       889  \n",
              "unique        3  \n",
              "top           S  \n",
              "freq        644  \n",
              "mean        NaN  \n",
              "std         NaN  \n",
              "min         NaN  \n",
              "25%         NaN  \n",
              "50%         NaN  \n",
              "75%         NaN  \n",
              "max         NaN  "
            ]
          },
          "metadata": {
            "tags": []
          },
          "execution_count": 5
        }
      ]
    },
    {
      "metadata": {
        "id": "P_GdZIZoC_TN",
        "colab_type": "text"
      },
      "cell_type": "markdown",
      "source": [
        "#3) Data Analysis\n",
        "We are going to consider features in our dataset and see how complete they are."
      ]
    },
    {
      "metadata": {
        "id": "SBgX9lZpDXXT",
        "colab_type": "code",
        "colab": {
          "base_uri": "https://localhost:8080/",
          "height": 70
        },
        "outputId": "b6421621-72b2-4216-c473-dfc17ea895fb"
      },
      "cell_type": "code",
      "source": [
        "# get a list of features\n",
        "print(train.columns)"
      ],
      "execution_count": 6,
      "outputs": [
        {
          "output_type": "stream",
          "text": [
            "Index(['PassengerId', 'Survived', 'Pclass', 'Name', 'Sex', 'Age', 'SibSp',\n",
            "       'Parch', 'Ticket', 'Fare', 'Cabin', 'Embarked'],\n",
            "      dtype='object')\n"
          ],
          "name": "stdout"
        }
      ]
    },
    {
      "metadata": {
        "id": "qDgAt19wDgjx",
        "colab_type": "code",
        "colab": {
          "base_uri": "https://localhost:8080/",
          "height": 197
        },
        "outputId": "d132b8ff-3dd4-4f2d-9468-f4254b6833c2"
      },
      "cell_type": "code",
      "source": [
        "#see a sample of the dataset to get an idea of variables\n",
        "train.sample(5)"
      ],
      "execution_count": 7,
      "outputs": [
        {
          "output_type": "execute_result",
          "data": {
            "text/html": [
              "<div>\n",
              "<style scoped>\n",
              "    .dataframe tbody tr th:only-of-type {\n",
              "        vertical-align: middle;\n",
              "    }\n",
              "\n",
              "    .dataframe tbody tr th {\n",
              "        vertical-align: top;\n",
              "    }\n",
              "\n",
              "    .dataframe thead th {\n",
              "        text-align: right;\n",
              "    }\n",
              "</style>\n",
              "<table border=\"1\" class=\"dataframe\">\n",
              "  <thead>\n",
              "    <tr style=\"text-align: right;\">\n",
              "      <th></th>\n",
              "      <th>PassengerId</th>\n",
              "      <th>Survived</th>\n",
              "      <th>Pclass</th>\n",
              "      <th>Name</th>\n",
              "      <th>Sex</th>\n",
              "      <th>Age</th>\n",
              "      <th>SibSp</th>\n",
              "      <th>Parch</th>\n",
              "      <th>Ticket</th>\n",
              "      <th>Fare</th>\n",
              "      <th>Cabin</th>\n",
              "      <th>Embarked</th>\n",
              "    </tr>\n",
              "  </thead>\n",
              "  <tbody>\n",
              "    <tr>\n",
              "      <th>692</th>\n",
              "      <td>693</td>\n",
              "      <td>1</td>\n",
              "      <td>3</td>\n",
              "      <td>Lam, Mr. Ali</td>\n",
              "      <td>male</td>\n",
              "      <td>NaN</td>\n",
              "      <td>0</td>\n",
              "      <td>0</td>\n",
              "      <td>1601</td>\n",
              "      <td>56.4958</td>\n",
              "      <td>NaN</td>\n",
              "      <td>S</td>\n",
              "    </tr>\n",
              "    <tr>\n",
              "      <th>703</th>\n",
              "      <td>704</td>\n",
              "      <td>0</td>\n",
              "      <td>3</td>\n",
              "      <td>Gallagher, Mr. Martin</td>\n",
              "      <td>male</td>\n",
              "      <td>25.0</td>\n",
              "      <td>0</td>\n",
              "      <td>0</td>\n",
              "      <td>36864</td>\n",
              "      <td>7.7417</td>\n",
              "      <td>NaN</td>\n",
              "      <td>Q</td>\n",
              "    </tr>\n",
              "    <tr>\n",
              "      <th>623</th>\n",
              "      <td>624</td>\n",
              "      <td>0</td>\n",
              "      <td>3</td>\n",
              "      <td>Hansen, Mr. Henry Damsgaard</td>\n",
              "      <td>male</td>\n",
              "      <td>21.0</td>\n",
              "      <td>0</td>\n",
              "      <td>0</td>\n",
              "      <td>350029</td>\n",
              "      <td>7.8542</td>\n",
              "      <td>NaN</td>\n",
              "      <td>S</td>\n",
              "    </tr>\n",
              "    <tr>\n",
              "      <th>499</th>\n",
              "      <td>500</td>\n",
              "      <td>0</td>\n",
              "      <td>3</td>\n",
              "      <td>Svensson, Mr. Olof</td>\n",
              "      <td>male</td>\n",
              "      <td>24.0</td>\n",
              "      <td>0</td>\n",
              "      <td>0</td>\n",
              "      <td>350035</td>\n",
              "      <td>7.7958</td>\n",
              "      <td>NaN</td>\n",
              "      <td>S</td>\n",
              "    </tr>\n",
              "    <tr>\n",
              "      <th>485</th>\n",
              "      <td>486</td>\n",
              "      <td>0</td>\n",
              "      <td>3</td>\n",
              "      <td>Lefebre, Miss. Jeannie</td>\n",
              "      <td>female</td>\n",
              "      <td>NaN</td>\n",
              "      <td>3</td>\n",
              "      <td>1</td>\n",
              "      <td>4133</td>\n",
              "      <td>25.4667</td>\n",
              "      <td>NaN</td>\n",
              "      <td>S</td>\n",
              "    </tr>\n",
              "  </tbody>\n",
              "</table>\n",
              "</div>"
            ],
            "text/plain": [
              "     PassengerId  Survived  Pclass                         Name     Sex   Age  \\\n",
              "692          693         1       3                 Lam, Mr. Ali    male   NaN   \n",
              "703          704         0       3        Gallagher, Mr. Martin    male  25.0   \n",
              "623          624         0       3  Hansen, Mr. Henry Damsgaard    male  21.0   \n",
              "499          500         0       3           Svensson, Mr. Olof    male  24.0   \n",
              "485          486         0       3       Lefebre, Miss. Jeannie  female   NaN   \n",
              "\n",
              "     SibSp  Parch  Ticket     Fare Cabin Embarked  \n",
              "692      0      0    1601  56.4958   NaN        S  \n",
              "703      0      0   36864   7.7417   NaN        Q  \n",
              "623      0      0  350029   7.8542   NaN        S  \n",
              "499      0      0  350035   7.7958   NaN        S  \n",
              "485      3      1    4133  25.4667   NaN        S  "
            ]
          },
          "metadata": {
            "tags": []
          },
          "execution_count": 7
        }
      ]
    },
    {
      "metadata": {
        "id": "92M-_eqAHbQE",
        "colab_type": "text"
      },
      "cell_type": "markdown",
      "source": [
        "-  **Numeical Features:** Age(continuous), Fare(Continuous) SibSp(Discrete), Parch(Discrete)\n",
        "-  **Categorical Features:** Survived,Sex,Embarked,Pclass\n",
        "-  **Alphanumeric Features:** Tickets,Cabin"
      ]
    },
    {
      "metadata": {
        "id": "lsIEd8-X0F-j",
        "colab_type": "text"
      },
      "cell_type": "markdown",
      "source": [
        "##what are the data type for each feature?\n",
        "-  Survived: int\n",
        "-  Pclass: int\n",
        "-  Name: string\n",
        "-  Sex: string\n",
        "-  Age: float\n",
        "-  SibSp: int\n",
        "-  Parch: int\n",
        "-  Ticket: string\n",
        "-  Fare: float\n",
        "-  Cabin: string\n",
        "-  Embarked: string"
      ]
    },
    {
      "metadata": {
        "id": "bk7yxZWc1J71",
        "colab_type": "code",
        "colab": {
          "base_uri": "https://localhost:8080/",
          "height": 377
        },
        "outputId": "07ad5805-ad82-479a-ecba-606748eb76fa"
      },
      "cell_type": "code",
      "source": [
        "# See a summary of traning data\n",
        "train.describe(include = 'all')"
      ],
      "execution_count": 8,
      "outputs": [
        {
          "output_type": "execute_result",
          "data": {
            "text/html": [
              "<div>\n",
              "<style scoped>\n",
              "    .dataframe tbody tr th:only-of-type {\n",
              "        vertical-align: middle;\n",
              "    }\n",
              "\n",
              "    .dataframe tbody tr th {\n",
              "        vertical-align: top;\n",
              "    }\n",
              "\n",
              "    .dataframe thead th {\n",
              "        text-align: right;\n",
              "    }\n",
              "</style>\n",
              "<table border=\"1\" class=\"dataframe\">\n",
              "  <thead>\n",
              "    <tr style=\"text-align: right;\">\n",
              "      <th></th>\n",
              "      <th>PassengerId</th>\n",
              "      <th>Survived</th>\n",
              "      <th>Pclass</th>\n",
              "      <th>Name</th>\n",
              "      <th>Sex</th>\n",
              "      <th>Age</th>\n",
              "      <th>SibSp</th>\n",
              "      <th>Parch</th>\n",
              "      <th>Ticket</th>\n",
              "      <th>Fare</th>\n",
              "      <th>Cabin</th>\n",
              "      <th>Embarked</th>\n",
              "    </tr>\n",
              "  </thead>\n",
              "  <tbody>\n",
              "    <tr>\n",
              "      <th>count</th>\n",
              "      <td>891.000000</td>\n",
              "      <td>891.000000</td>\n",
              "      <td>891.000000</td>\n",
              "      <td>891</td>\n",
              "      <td>891</td>\n",
              "      <td>714.000000</td>\n",
              "      <td>891.000000</td>\n",
              "      <td>891.000000</td>\n",
              "      <td>891</td>\n",
              "      <td>891.000000</td>\n",
              "      <td>204</td>\n",
              "      <td>889</td>\n",
              "    </tr>\n",
              "    <tr>\n",
              "      <th>unique</th>\n",
              "      <td>NaN</td>\n",
              "      <td>NaN</td>\n",
              "      <td>NaN</td>\n",
              "      <td>891</td>\n",
              "      <td>2</td>\n",
              "      <td>NaN</td>\n",
              "      <td>NaN</td>\n",
              "      <td>NaN</td>\n",
              "      <td>681</td>\n",
              "      <td>NaN</td>\n",
              "      <td>147</td>\n",
              "      <td>3</td>\n",
              "    </tr>\n",
              "    <tr>\n",
              "      <th>top</th>\n",
              "      <td>NaN</td>\n",
              "      <td>NaN</td>\n",
              "      <td>NaN</td>\n",
              "      <td>Hickman, Mr. Lewis</td>\n",
              "      <td>male</td>\n",
              "      <td>NaN</td>\n",
              "      <td>NaN</td>\n",
              "      <td>NaN</td>\n",
              "      <td>1601</td>\n",
              "      <td>NaN</td>\n",
              "      <td>B96 B98</td>\n",
              "      <td>S</td>\n",
              "    </tr>\n",
              "    <tr>\n",
              "      <th>freq</th>\n",
              "      <td>NaN</td>\n",
              "      <td>NaN</td>\n",
              "      <td>NaN</td>\n",
              "      <td>1</td>\n",
              "      <td>577</td>\n",
              "      <td>NaN</td>\n",
              "      <td>NaN</td>\n",
              "      <td>NaN</td>\n",
              "      <td>7</td>\n",
              "      <td>NaN</td>\n",
              "      <td>4</td>\n",
              "      <td>644</td>\n",
              "    </tr>\n",
              "    <tr>\n",
              "      <th>mean</th>\n",
              "      <td>446.000000</td>\n",
              "      <td>0.383838</td>\n",
              "      <td>2.308642</td>\n",
              "      <td>NaN</td>\n",
              "      <td>NaN</td>\n",
              "      <td>29.699118</td>\n",
              "      <td>0.523008</td>\n",
              "      <td>0.381594</td>\n",
              "      <td>NaN</td>\n",
              "      <td>32.204208</td>\n",
              "      <td>NaN</td>\n",
              "      <td>NaN</td>\n",
              "    </tr>\n",
              "    <tr>\n",
              "      <th>std</th>\n",
              "      <td>257.353842</td>\n",
              "      <td>0.486592</td>\n",
              "      <td>0.836071</td>\n",
              "      <td>NaN</td>\n",
              "      <td>NaN</td>\n",
              "      <td>14.526497</td>\n",
              "      <td>1.102743</td>\n",
              "      <td>0.806057</td>\n",
              "      <td>NaN</td>\n",
              "      <td>49.693429</td>\n",
              "      <td>NaN</td>\n",
              "      <td>NaN</td>\n",
              "    </tr>\n",
              "    <tr>\n",
              "      <th>min</th>\n",
              "      <td>1.000000</td>\n",
              "      <td>0.000000</td>\n",
              "      <td>1.000000</td>\n",
              "      <td>NaN</td>\n",
              "      <td>NaN</td>\n",
              "      <td>0.420000</td>\n",
              "      <td>0.000000</td>\n",
              "      <td>0.000000</td>\n",
              "      <td>NaN</td>\n",
              "      <td>0.000000</td>\n",
              "      <td>NaN</td>\n",
              "      <td>NaN</td>\n",
              "    </tr>\n",
              "    <tr>\n",
              "      <th>25%</th>\n",
              "      <td>223.500000</td>\n",
              "      <td>0.000000</td>\n",
              "      <td>2.000000</td>\n",
              "      <td>NaN</td>\n",
              "      <td>NaN</td>\n",
              "      <td>20.125000</td>\n",
              "      <td>0.000000</td>\n",
              "      <td>0.000000</td>\n",
              "      <td>NaN</td>\n",
              "      <td>7.910400</td>\n",
              "      <td>NaN</td>\n",
              "      <td>NaN</td>\n",
              "    </tr>\n",
              "    <tr>\n",
              "      <th>50%</th>\n",
              "      <td>446.000000</td>\n",
              "      <td>0.000000</td>\n",
              "      <td>3.000000</td>\n",
              "      <td>NaN</td>\n",
              "      <td>NaN</td>\n",
              "      <td>28.000000</td>\n",
              "      <td>0.000000</td>\n",
              "      <td>0.000000</td>\n",
              "      <td>NaN</td>\n",
              "      <td>14.454200</td>\n",
              "      <td>NaN</td>\n",
              "      <td>NaN</td>\n",
              "    </tr>\n",
              "    <tr>\n",
              "      <th>75%</th>\n",
              "      <td>668.500000</td>\n",
              "      <td>1.000000</td>\n",
              "      <td>3.000000</td>\n",
              "      <td>NaN</td>\n",
              "      <td>NaN</td>\n",
              "      <td>38.000000</td>\n",
              "      <td>1.000000</td>\n",
              "      <td>0.000000</td>\n",
              "      <td>NaN</td>\n",
              "      <td>31.000000</td>\n",
              "      <td>NaN</td>\n",
              "      <td>NaN</td>\n",
              "    </tr>\n",
              "    <tr>\n",
              "      <th>max</th>\n",
              "      <td>891.000000</td>\n",
              "      <td>1.000000</td>\n",
              "      <td>3.000000</td>\n",
              "      <td>NaN</td>\n",
              "      <td>NaN</td>\n",
              "      <td>80.000000</td>\n",
              "      <td>8.000000</td>\n",
              "      <td>6.000000</td>\n",
              "      <td>NaN</td>\n",
              "      <td>512.329200</td>\n",
              "      <td>NaN</td>\n",
              "      <td>NaN</td>\n",
              "    </tr>\n",
              "  </tbody>\n",
              "</table>\n",
              "</div>"
            ],
            "text/plain": [
              "        PassengerId    Survived      Pclass                Name   Sex  \\\n",
              "count    891.000000  891.000000  891.000000                 891   891   \n",
              "unique          NaN         NaN         NaN                 891     2   \n",
              "top             NaN         NaN         NaN  Hickman, Mr. Lewis  male   \n",
              "freq            NaN         NaN         NaN                   1   577   \n",
              "mean     446.000000    0.383838    2.308642                 NaN   NaN   \n",
              "std      257.353842    0.486592    0.836071                 NaN   NaN   \n",
              "min        1.000000    0.000000    1.000000                 NaN   NaN   \n",
              "25%      223.500000    0.000000    2.000000                 NaN   NaN   \n",
              "50%      446.000000    0.000000    3.000000                 NaN   NaN   \n",
              "75%      668.500000    1.000000    3.000000                 NaN   NaN   \n",
              "max      891.000000    1.000000    3.000000                 NaN   NaN   \n",
              "\n",
              "               Age       SibSp       Parch Ticket        Fare    Cabin  \\\n",
              "count   714.000000  891.000000  891.000000    891  891.000000      204   \n",
              "unique         NaN         NaN         NaN    681         NaN      147   \n",
              "top            NaN         NaN         NaN   1601         NaN  B96 B98   \n",
              "freq           NaN         NaN         NaN      7         NaN        4   \n",
              "mean     29.699118    0.523008    0.381594    NaN   32.204208      NaN   \n",
              "std      14.526497    1.102743    0.806057    NaN   49.693429      NaN   \n",
              "min       0.420000    0.000000    0.000000    NaN    0.000000      NaN   \n",
              "25%      20.125000    0.000000    0.000000    NaN    7.910400      NaN   \n",
              "50%      28.000000    0.000000    0.000000    NaN   14.454200      NaN   \n",
              "75%      38.000000    1.000000    0.000000    NaN   31.000000      NaN   \n",
              "max      80.000000    8.000000    6.000000    NaN  512.329200      NaN   \n",
              "\n",
              "       Embarked  \n",
              "count       889  \n",
              "unique        3  \n",
              "top           S  \n",
              "freq        644  \n",
              "mean        NaN  \n",
              "std         NaN  \n",
              "min         NaN  \n",
              "25%         NaN  \n",
              "50%         NaN  \n",
              "75%         NaN  \n",
              "max         NaN  "
            ]
          },
          "metadata": {
            "tags": []
          },
          "execution_count": 8
        }
      ]
    },
    {
      "metadata": {
        "id": "YDS-pl_q2YOz",
        "colab_type": "text"
      },
      "cell_type": "markdown",
      "source": [
        "##Observation:\n",
        "-  there is a total of 891 passanger in traing dataset.\n",
        "-  The age feature is missing approximately 19.8% of its value.\n",
        "-  The Cabin feature is missing approx. 77.1% of its value\n",
        "-  The Embarked feature is missing 0.22% of its values"
      ]
    },
    {
      "metadata": {
        "id": "ha7lS50y3LmW",
        "colab_type": "code",
        "colab": {
          "base_uri": "https://localhost:8080/",
          "height": 247
        },
        "outputId": "fbdb5488-0ac8-4f07-bc48-13da39030d3d"
      },
      "cell_type": "code",
      "source": [
        "# checking of NaN values\n",
        "print(pd.isnull(train).sum())"
      ],
      "execution_count": 9,
      "outputs": [
        {
          "output_type": "stream",
          "text": [
            "PassengerId      0\n",
            "Survived         0\n",
            "Pclass           0\n",
            "Name             0\n",
            "Sex              0\n",
            "Age            177\n",
            "SibSp            0\n",
            "Parch            0\n",
            "Ticket           0\n",
            "Fare             0\n",
            "Cabin          687\n",
            "Embarked         2\n",
            "dtype: int64\n"
          ],
          "name": "stdout"
        }
      ]
    },
    {
      "metadata": {
        "id": "jk8X-3ek4QG0",
        "colab_type": "text"
      },
      "cell_type": "markdown",
      "source": [
        "##Some confusing Feature\n",
        "-  **sibsp -** number of siblings/spouses aboard the titanic\n",
        "- **parch -** number of parents/children aboard the titanic\n",
        "- **Embarked -** Port of Embarkation  - - C = Cherbourg, Q = Queenstown, S = Southampton\n",
        "- **Pclass -** A proxy of socio-economic status(SES)  --- 1st = Upper, 2nd = Middle, 3rd = Lower "
      ]
    },
    {
      "metadata": {
        "id": "0qa1UwOZ7FC7",
        "colab_type": "text"
      },
      "cell_type": "markdown",
      "source": [
        "#4) Data Visualization\n",
        "its time to visualize our data to see which feature affect more on survival rate"
      ]
    },
    {
      "metadata": {
        "id": "Eb9b6lbu7pBZ",
        "colab_type": "text"
      },
      "cell_type": "markdown",
      "source": [
        "##Sex Feature"
      ]
    },
    {
      "metadata": {
        "id": "LxaXFJgS7s35",
        "colab_type": "code",
        "colab": {
          "base_uri": "https://localhost:8080/",
          "height": 314
        },
        "outputId": "54a833dc-c043-4847-b41f-c7077fa80fc7"
      },
      "cell_type": "code",
      "source": [
        "#draw a bar plot of survival by sex\n",
        "sns.barplot(x= 'Sex',y='Survived',data=train)\n",
        "\n",
        "#print % of female vs. male that survived\n",
        "print('Percentage of female who survived:',train['Survived'][train['Sex'] == 'female'].value_counts(normalize = True)[1]*100)\n",
        "\n",
        "print('Percentage of male who survived:',train['Survived'][train['Sex'] == 'male'].value_counts(normalize = True)[1]*100)"
      ],
      "execution_count": 10,
      "outputs": [
        {
          "output_type": "stream",
          "text": [
            "Percentage of female who survived: 74.20382165605095\n",
            "Percentage of male who survived: 18.890814558058924\n"
          ],
          "name": "stdout"
        },
        {
          "output_type": "display_data",
          "data": {
            "image/png": "[encoded data removed]",
            "text/plain": [
              "<matplotlib.figure.Figure at 0x7f9c7e232748>"
            ]
          },
          "metadata": {
            "tags": []
          }
        }
      ]
    },
    {
      "metadata": {
        "id": "n1de_hyZCEKM",
        "colab_type": "text"
      },
      "cell_type": "markdown",
      "source": [
        "So, Female have a much higher chance of survival than males. The Sex feature is essential in our prediction."
      ]
    },
    {
      "metadata": {
        "id": "1TcfFrriCnbX",
        "colab_type": "text"
      },
      "cell_type": "markdown",
      "source": [
        "##Pclass Feature"
      ]
    },
    {
      "metadata": {
        "id": "lbQ2aj_5CrUy",
        "colab_type": "code",
        "colab": {
          "base_uri": "https://localhost:8080/",
          "height": 332
        },
        "outputId": "618ecd9d-46fd-426d-caef-b1b9de684590"
      },
      "cell_type": "code",
      "source": [
        "#draw a bar plot of survival by Pclass\n",
        "sns.barplot(x='Pclass', y='Survived',data=train)\n",
        "\n",
        "# Percentage of people that survived by Pclass\n",
        "#class 1 = Upper\n",
        "print('petcentage of Pclass=1 who survived:', train['Survived'][train['Pclass'] == 1].value_counts(normalize=True)[1]*100)\n",
        "\n",
        "#class 2 = Middle\n",
        "print('petcentage of Pclass=2 who survived:', train['Survived'][train['Pclass'] == 2].value_counts(normalize=True)[1]*100)\n",
        "\n",
        "#class 3 = Lower\n",
        "print('petcentage of Pclass=3 who survived:', train['Survived'][train['Pclass'] == 3].value_counts(normalize=True)[1]*100)"
      ],
      "execution_count": 11,
      "outputs": [
        {
          "output_type": "stream",
          "text": [
            "petcentage of Pclass=1 who survived: 62.96296296296296\n",
            "petcentage of Pclass=2 who survived: 47.28260869565217\n",
            "petcentage of Pclass=3 who survived: 24.236252545824847\n"
          ],
          "name": "stdout"
        },
        {
          "output_type": "display_data",
          "data": {
            "image/png": "[encoded data removed]",
            "text/plain": [
              "<matplotlib.figure.Figure at 0x7f9c7e2d82e8>"
            ]
          },
          "metadata": {
            "tags": []
          }
        }
      ]
    },
    {
      "metadata": {
        "id": "H16NLyBWEvPN",
        "colab_type": "text"
      },
      "cell_type": "markdown",
      "source": [
        "People with higher socio-economic class had a higher rate of survival. Z"
      ]
    },
    {
      "metadata": {
        "id": "k0CQVdkPX9U7",
        "colab_type": "text"
      },
      "cell_type": "markdown",
      "source": [
        "##SibSp Feature"
      ]
    },
    {
      "metadata": {
        "id": "UlHnDam-YChI",
        "colab_type": "code",
        "colab": {
          "base_uri": "https://localhost:8080/",
          "height": 367
        },
        "outputId": "47e5ce84-f92d-4591-a864-8837acbf9466"
      },
      "cell_type": "code",
      "source": [
        "#draw a bar plot for SibSp vs. Survival\n",
        "sns.barplot(x='SibSp',y='Survived',data=train)\n",
        "\n",
        "# The percentage of people survived\n",
        "print(\"Percentage of SibSp = 0 who suvived:\",train['Survived'][train['SibSp']==0].value_counts(normalize=True)[1]*100)\n",
        "\n",
        "print(\"Percentage of SibSp = 1 who suvived:\",train['Survived'][train['SibSp']==1].value_counts(normalize=True)[1]*100)\n",
        "\n",
        "print(\"Percentage of SibSp = 2 who suvived:\",train['Survived'][train['SibSp']==2].value_counts(normalize=True)[1]*100)\n",
        "\n",
        "print(\"Percentage of SibSp = 3 who suvived:\",train['Survived'][train['SibSp']==3].value_counts(normalize=True)[1]*100)\n",
        "\n",
        "print(\"Percentage of SibSp = 4 who suvived:\",train['Survived'][train['SibSp']==4].value_counts(normalize=True)[1]*100)"
      ],
      "execution_count": 12,
      "outputs": [
        {
          "output_type": "stream",
          "text": [
            "Percentage of SibSp = 0 who suvived: 34.53947368421053\n",
            "Percentage of SibSp = 1 who suvived: 53.588516746411486\n",
            "Percentage of SibSp = 2 who suvived: 46.42857142857143\n",
            "Percentage of SibSp = 3 who suvived: 25.0\n",
            "Percentage of SibSp = 4 who suvived: 16.666666666666664\n"
          ],
          "name": "stdout"
        },
        {
          "output_type": "display_data",
          "data": {
            "image/png": "[encoded data removed]",
            "text/plain": [
              "<matplotlib.figure.Figure at 0x7f9c9cc2e320>"
            ]
          },
          "metadata": {
            "tags": []
          }
        }
      ]
    },
    {
      "metadata": {
        "id": "TBIvrNabbF4y",
        "colab_type": "text"
      },
      "cell_type": "markdown",
      "source": [
        "In general, those with more siblings or spouses aboard were less likely to survive. However, people with no sibling or spouses were less likely to survive than those with one or two."
      ]
    },
    {
      "metadata": {
        "id": "Xsno8bWbbjZn",
        "colab_type": "text"
      },
      "cell_type": "markdown",
      "source": [
        "##Parch Feature"
      ]
    },
    {
      "metadata": {
        "id": "9xTaZbZRbm_4",
        "colab_type": "code",
        "colab": {
          "base_uri": "https://localhost:8080/",
          "height": 296
        },
        "outputId": "d6b34a79-7758-4af3-966d-53ba75add90e"
      },
      "cell_type": "code",
      "source": [
        "#draw a bar plot for parch vs.survival\n",
        "sns.barplot(x='Parch',y='Survived',data=train)"
      ],
      "execution_count": 13,
      "outputs": [
        {
          "output_type": "execute_result",
          "data": {
            "text/plain": [
              "<matplotlib.axes._subplots.AxesSubplot at 0x7f9c7e1d0be0>"
            ]
          },
          "metadata": {
            "tags": []
          },
          "execution_count": 13
        },
        {
          "output_type": "display_data",
          "data": {
            "image/png": "[encoded data removed]",
            "text/plain": [
              "<matplotlib.figure.Figure at 0x7f9c8c8d6278>"
            ]
          },
          "metadata": {
            "tags": []
          }
        }
      ]
    },
    {
      "metadata": {
        "id": "aE0XW4mzcE4Y",
        "colab_type": "text"
      },
      "cell_type": "markdown",
      "source": [
        "People with less than four parents or children aboard are more likely to survive than those with four or more. Again, people with no parents or children are less likely to survive than those with 1-3 parent or children"
      ]
    },
    {
      "metadata": {
        "id": "o9BgQZDZc11F",
        "colab_type": "text"
      },
      "cell_type": "markdown",
      "source": [
        "##Age Feature"
      ]
    },
    {
      "metadata": {
        "id": "AvU6ds5ag9eG",
        "colab_type": "code",
        "colab": {
          "base_uri": "https://localhost:8080/",
          "height": 296
        },
        "outputId": "4ede25a2-dc3f-4bcc-b19a-d928a49c3aad"
      },
      "cell_type": "code",
      "source": [
        "#sort the ages into logical categories\n",
        "#train[\"Age\"] = train[\"Age\"].fillna(-0.5)\n",
        "#test[\"Age\"] = test[\"Age\"].fillna(-0.5)\n",
        "bins = [-1, 0, 5, 12, 18, 24, 35, 60, np.inf]\n",
        "labels = ['Unknown', 'Baby', 'Child', 'Teenager', 'Student', 'Young adult', 'Adult', 'Elderly']\n",
        "train['AgeGroup'] = pd.cut(train[\"Age\"], bins, labels = labels)\n",
        "test['AgeGroup'] = pd.cut(test[\"Age\"], bins, labels = labels)\n",
        "\n",
        "# Draw a bar plot for age vs. survival\n",
        "sns.barplot(x='AgeGroup',y='Survived',data=train)"
      ],
      "execution_count": 14,
      "outputs": [
        {
          "output_type": "execute_result",
          "data": {
            "text/plain": [
              "<matplotlib.axes._subplots.AxesSubplot at 0x7f9c7b811b00>"
            ]
          },
          "metadata": {
            "tags": []
          },
          "execution_count": 14
        },
        {
          "output_type": "display_data",
          "data": {
            "image/png": "[encoded data removed]",
            "text/plain": [
              "<matplotlib.figure.Figure at 0x7f9c7b873c88>"
            ]
          },
          "metadata": {
            "tags": []
          }
        }
      ]
    },
    {
      "metadata": {
        "id": "zv2XClNXjhR0",
        "colab_type": "text"
      },
      "cell_type": "markdown",
      "source": [
        "Babies are more likely to survive than any other group"
      ]
    },
    {
      "metadata": {
        "id": "mURBpCFqjnrE",
        "colab_type": "text"
      },
      "cell_type": "markdown",
      "source": [
        "##Cabin Feature"
      ]
    },
    {
      "metadata": {
        "id": "CwpBOZaDjq4z",
        "colab_type": "code",
        "colab": {
          "base_uri": "https://localhost:8080/",
          "height": 314
        },
        "outputId": "d8f0f6fe-f471-4cc1-c77e-56fe4eaeaa85"
      },
      "cell_type": "code",
      "source": [
        "# to convert the alphanum values to integer for ploting\n",
        "train['CabinBool'] = train['Cabin'].notnull().astype('int')\n",
        "test['CabinBool'] = test['Cabin'].notnull().astype('int')\n",
        "\n",
        "sns.barplot(x='CabinBool', y='Survived', data=train )\n",
        "\n",
        "# Calculate percentage of CabinBool vs. Survived\n",
        "print('percentage of CabinBool = 1 who survived:',train['Survived'][train['CabinBool']==1].value_counts(normalize=True)[1]*100)\n",
        "\n",
        "print('percentage of CabinBool = 0 who survived:',train['Survived'][train['CabinBool']==0].value_counts(normalize=True)[1]*100)\n"
      ],
      "execution_count": 15,
      "outputs": [
        {
          "output_type": "stream",
          "text": [
            "percentage of CabinBool = 1 who survived: 66.66666666666666\n",
            "percentage of CabinBool = 0 who survived: 29.985443959243085\n"
          ],
          "name": "stdout"
        },
        {
          "output_type": "display_data",
          "data": {
            "image/png": "[encoded data removed]",
            "text/plain": [
              "<matplotlib.figure.Figure at 0x7f9c7b7cbf28>"
            ]
          },
          "metadata": {
            "tags": []
          }
        }
      ]
    },
    {
      "metadata": {
        "id": "0Jt4jLg3wYZp",
        "colab_type": "text"
      },
      "cell_type": "markdown",
      "source": [
        "People with a recorded Cabin number are more likely to survive."
      ]
    },
    {
      "metadata": {
        "id": "ZHO4zTOgvanm",
        "colab_type": "text"
      },
      "cell_type": "markdown",
      "source": [
        "##Embarked Feature"
      ]
    },
    {
      "metadata": {
        "id": "MjHPWFeOkpnV",
        "colab_type": "code",
        "colab": {
          "base_uri": "https://localhost:8080/",
          "height": 332
        },
        "outputId": "d664e304-d952-487d-8c2c-712e5cbaadb5"
      },
      "cell_type": "code",
      "source": [
        "# Draw a bar plot of port of embarkment vs. survival\n",
        "sns.barplot(x='Embarked', y='Survived', data=train )\n",
        "\n",
        "# Calculate percentage of CabinBool vs. Survived\n",
        "print('percentage of Embarked = S who survived:',train['Survived'][train['Embarked']=='S'].value_counts(normalize=True)[1]*100)\n",
        "\n",
        "\n",
        "print('percentage of Embarked = C who survived:',train['Survived'][train['Embarked']=='C'].value_counts(normalize=True)[1]*100)\n",
        "      \n",
        "      \n",
        "print('percentage of Embarked = Q who survived:',train['Survived'][train['Embarked']=='Q'].value_counts(normalize=True)[1]*100)"
      ],
      "execution_count": 16,
      "outputs": [
        {
          "output_type": "stream",
          "text": [
            "percentage of Embarked = S who survived: 33.69565217391305\n",
            "percentage of Embarked = C who survived: 55.35714285714286\n",
            "percentage of Embarked = Q who survived: 38.961038961038966\n"
          ],
          "name": "stdout"
        },
        {
          "output_type": "display_data",
          "data": {
            "image/png": "[encoded data removed]",
            "text/plain": [
              "<matplotlib.figure.Figure at 0x7f9c7e16abe0>"
            ]
          },
          "metadata": {
            "tags": []
          }
        }
      ]
    },
    {
      "metadata": {
        "id": "icVMARbkv9Ig",
        "colab_type": "text"
      },
      "cell_type": "markdown",
      "source": [
        "So people who boarded from C = Cherbourg are more likely to survive than people from  Q = Queenstown, S = Southampton."
      ]
    },
    {
      "metadata": {
        "id": "meASBpPxx8JY",
        "colab_type": "text"
      },
      "cell_type": "markdown",
      "source": [
        "#5) Cleaning Data\n",
        "Now we will clean our data to account for missing values."
      ]
    },
    {
      "metadata": {
        "id": "tTT1mQbKyM_W",
        "colab_type": "text"
      },
      "cell_type": "markdown",
      "source": [
        "##Looking at the test data\n",
        "Let's see how our test data look"
      ]
    },
    {
      "metadata": {
        "id": "tTrCy2AQybUk",
        "colab_type": "code",
        "colab": {
          "base_uri": "https://localhost:8080/",
          "height": 377
        },
        "outputId": "e5fe3083-9586-4e9c-bf69-882281af676d"
      },
      "cell_type": "code",
      "source": [
        "test.describe(include='all')"
      ],
      "execution_count": 17,
      "outputs": [
        {
          "output_type": "execute_result",
          "data": {
            "text/html": [
              "<div>\n",
              "<style scoped>\n",
              "    .dataframe tbody tr th:only-of-type {\n",
              "        vertical-align: middle;\n",
              "    }\n",
              "\n",
              "    .dataframe tbody tr th {\n",
              "        vertical-align: top;\n",
              "    }\n",
              "\n",
              "    .dataframe thead th {\n",
              "        text-align: right;\n",
              "    }\n",
              "</style>\n",
              "<table border=\"1\" class=\"dataframe\">\n",
              "  <thead>\n",
              "    <tr style=\"text-align: right;\">\n",
              "      <th></th>\n",
              "      <th>PassengerId</th>\n",
              "      <th>Pclass</th>\n",
              "      <th>Name</th>\n",
              "      <th>Sex</th>\n",
              "      <th>Age</th>\n",
              "      <th>SibSp</th>\n",
              "      <th>Parch</th>\n",
              "      <th>Ticket</th>\n",
              "      <th>Fare</th>\n",
              "      <th>Cabin</th>\n",
              "      <th>Embarked</th>\n",
              "      <th>AgeGroup</th>\n",
              "      <th>CabinBool</th>\n",
              "    </tr>\n",
              "  </thead>\n",
              "  <tbody>\n",
              "    <tr>\n",
              "      <th>count</th>\n",
              "      <td>418.000000</td>\n",
              "      <td>418.000000</td>\n",
              "      <td>418</td>\n",
              "      <td>418</td>\n",
              "      <td>332.000000</td>\n",
              "      <td>418.000000</td>\n",
              "      <td>418.000000</td>\n",
              "      <td>418</td>\n",
              "      <td>417.000000</td>\n",
              "      <td>91</td>\n",
              "      <td>418</td>\n",
              "      <td>332</td>\n",
              "      <td>418.000000</td>\n",
              "    </tr>\n",
              "    <tr>\n",
              "      <th>unique</th>\n",
              "      <td>NaN</td>\n",
              "      <td>NaN</td>\n",
              "      <td>418</td>\n",
              "      <td>2</td>\n",
              "      <td>NaN</td>\n",
              "      <td>NaN</td>\n",
              "      <td>NaN</td>\n",
              "      <td>363</td>\n",
              "      <td>NaN</td>\n",
              "      <td>76</td>\n",
              "      <td>3</td>\n",
              "      <td>7</td>\n",
              "      <td>NaN</td>\n",
              "    </tr>\n",
              "    <tr>\n",
              "      <th>top</th>\n",
              "      <td>NaN</td>\n",
              "      <td>NaN</td>\n",
              "      <td>Sage, Mr. John George</td>\n",
              "      <td>male</td>\n",
              "      <td>NaN</td>\n",
              "      <td>NaN</td>\n",
              "      <td>NaN</td>\n",
              "      <td>PC 17608</td>\n",
              "      <td>NaN</td>\n",
              "      <td>B57 B59 B63 B66</td>\n",
              "      <td>S</td>\n",
              "      <td>Young adult</td>\n",
              "      <td>NaN</td>\n",
              "    </tr>\n",
              "    <tr>\n",
              "      <th>freq</th>\n",
              "      <td>NaN</td>\n",
              "      <td>NaN</td>\n",
              "      <td>1</td>\n",
              "      <td>266</td>\n",
              "      <td>NaN</td>\n",
              "      <td>NaN</td>\n",
              "      <td>NaN</td>\n",
              "      <td>5</td>\n",
              "      <td>NaN</td>\n",
              "      <td>3</td>\n",
              "      <td>270</td>\n",
              "      <td>96</td>\n",
              "      <td>NaN</td>\n",
              "    </tr>\n",
              "    <tr>\n",
              "      <th>mean</th>\n",
              "      <td>1100.500000</td>\n",
              "      <td>2.265550</td>\n",
              "      <td>NaN</td>\n",
              "      <td>NaN</td>\n",
              "      <td>30.272590</td>\n",
              "      <td>0.447368</td>\n",
              "      <td>0.392344</td>\n",
              "      <td>NaN</td>\n",
              "      <td>35.627188</td>\n",
              "      <td>NaN</td>\n",
              "      <td>NaN</td>\n",
              "      <td>NaN</td>\n",
              "      <td>0.217703</td>\n",
              "    </tr>\n",
              "    <tr>\n",
              "      <th>std</th>\n",
              "      <td>120.810458</td>\n",
              "      <td>0.841838</td>\n",
              "      <td>NaN</td>\n",
              "      <td>NaN</td>\n",
              "      <td>14.181209</td>\n",
              "      <td>0.896760</td>\n",
              "      <td>0.981429</td>\n",
              "      <td>NaN</td>\n",
              "      <td>55.907576</td>\n",
              "      <td>NaN</td>\n",
              "      <td>NaN</td>\n",
              "      <td>NaN</td>\n",
              "      <td>0.413179</td>\n",
              "    </tr>\n",
              "    <tr>\n",
              "      <th>min</th>\n",
              "      <td>892.000000</td>\n",
              "      <td>1.000000</td>\n",
              "      <td>NaN</td>\n",
              "      <td>NaN</td>\n",
              "      <td>0.170000</td>\n",
              "      <td>0.000000</td>\n",
              "      <td>0.000000</td>\n",
              "      <td>NaN</td>\n",
              "      <td>0.000000</td>\n",
              "      <td>NaN</td>\n",
              "      <td>NaN</td>\n",
              "      <td>NaN</td>\n",
              "      <td>0.000000</td>\n",
              "    </tr>\n",
              "    <tr>\n",
              "      <th>25%</th>\n",
              "      <td>996.250000</td>\n",
              "      <td>1.000000</td>\n",
              "      <td>NaN</td>\n",
              "      <td>NaN</td>\n",
              "      <td>21.000000</td>\n",
              "      <td>0.000000</td>\n",
              "      <td>0.000000</td>\n",
              "      <td>NaN</td>\n",
              "      <td>7.895800</td>\n",
              "      <td>NaN</td>\n",
              "      <td>NaN</td>\n",
              "      <td>NaN</td>\n",
              "      <td>0.000000</td>\n",
              "    </tr>\n",
              "    <tr>\n",
              "      <th>50%</th>\n",
              "      <td>1100.500000</td>\n",
              "      <td>3.000000</td>\n",
              "      <td>NaN</td>\n",
              "      <td>NaN</td>\n",
              "      <td>27.000000</td>\n",
              "      <td>0.000000</td>\n",
              "      <td>0.000000</td>\n",
              "      <td>NaN</td>\n",
              "      <td>14.454200</td>\n",
              "      <td>NaN</td>\n",
              "      <td>NaN</td>\n",
              "      <td>NaN</td>\n",
              "      <td>0.000000</td>\n",
              "    </tr>\n",
              "    <tr>\n",
              "      <th>75%</th>\n",
              "      <td>1204.750000</td>\n",
              "      <td>3.000000</td>\n",
              "      <td>NaN</td>\n",
              "      <td>NaN</td>\n",
              "      <td>39.000000</td>\n",
              "      <td>1.000000</td>\n",
              "      <td>0.000000</td>\n",
              "      <td>NaN</td>\n",
              "      <td>31.500000</td>\n",
              "      <td>NaN</td>\n",
              "      <td>NaN</td>\n",
              "      <td>NaN</td>\n",
              "      <td>0.000000</td>\n",
              "    </tr>\n",
              "    <tr>\n",
              "      <th>max</th>\n",
              "      <td>1309.000000</td>\n",
              "      <td>3.000000</td>\n",
              "      <td>NaN</td>\n",
              "      <td>NaN</td>\n",
              "      <td>76.000000</td>\n",
              "      <td>8.000000</td>\n",
              "      <td>9.000000</td>\n",
              "      <td>NaN</td>\n",
              "      <td>512.329200</td>\n",
              "      <td>NaN</td>\n",
              "      <td>NaN</td>\n",
              "      <td>NaN</td>\n",
              "      <td>1.000000</td>\n",
              "    </tr>\n",
              "  </tbody>\n",
              "</table>\n",
              "</div>"
            ],
            "text/plain": [
              "        PassengerId      Pclass                   Name   Sex         Age  \\\n",
              "count    418.000000  418.000000                    418   418  332.000000   \n",
              "unique          NaN         NaN                    418     2         NaN   \n",
              "top             NaN         NaN  Sage, Mr. John George  male         NaN   \n",
              "freq            NaN         NaN                      1   266         NaN   \n",
              "mean    1100.500000    2.265550                    NaN   NaN   30.272590   \n",
              "std      120.810458    0.841838                    NaN   NaN   14.181209   \n",
              "min      892.000000    1.000000                    NaN   NaN    0.170000   \n",
              "25%      996.250000    1.000000                    NaN   NaN   21.000000   \n",
              "50%     1100.500000    3.000000                    NaN   NaN   27.000000   \n",
              "75%     1204.750000    3.000000                    NaN   NaN   39.000000   \n",
              "max     1309.000000    3.000000                    NaN   NaN   76.000000   \n",
              "\n",
              "             SibSp       Parch    Ticket        Fare            Cabin  \\\n",
              "count   418.000000  418.000000       418  417.000000               91   \n",
              "unique         NaN         NaN       363         NaN               76   \n",
              "top            NaN         NaN  PC 17608         NaN  B57 B59 B63 B66   \n",
              "freq           NaN         NaN         5         NaN                3   \n",
              "mean      0.447368    0.392344       NaN   35.627188              NaN   \n",
              "std       0.896760    0.981429       NaN   55.907576              NaN   \n",
              "min       0.000000    0.000000       NaN    0.000000              NaN   \n",
              "25%       0.000000    0.000000       NaN    7.895800              NaN   \n",
              "50%       0.000000    0.000000       NaN   14.454200              NaN   \n",
              "75%       1.000000    0.000000       NaN   31.500000              NaN   \n",
              "max       8.000000    9.000000       NaN  512.329200              NaN   \n",
              "\n",
              "       Embarked     AgeGroup   CabinBool  \n",
              "count       418          332  418.000000  \n",
              "unique        3            7         NaN  \n",
              "top           S  Young adult         NaN  \n",
              "freq        270           96         NaN  \n",
              "mean        NaN          NaN    0.217703  \n",
              "std         NaN          NaN    0.413179  \n",
              "min         NaN          NaN    0.000000  \n",
              "25%         NaN          NaN    0.000000  \n",
              "50%         NaN          NaN    0.000000  \n",
              "75%         NaN          NaN    0.000000  \n",
              "max         NaN          NaN    1.000000  "
            ]
          },
          "metadata": {
            "tags": []
          },
          "execution_count": 17
        }
      ]
    },
    {
      "metadata": {
        "id": "gi38-attyrof",
        "colab_type": "text"
      },
      "cell_type": "markdown",
      "source": [
        "\n",
        "\n",
        "*   We have a total of 418 pasengers.\n",
        "*   1 value from the Fare feature is missing.\n",
        "*    Around 78..2% of Cabin Feature is missing, we need to fill that in.\n",
        "\n"
      ]
    },
    {
      "metadata": {
        "id": "Je4fpxRIzqvM",
        "colab_type": "text"
      },
      "cell_type": "markdown",
      "source": [
        "##Ticket Feature"
      ]
    },
    {
      "metadata": {
        "id": "QDkGH5y8z0XS",
        "colab_type": "code",
        "colab": {}
      },
      "cell_type": "code",
      "source": [
        "# we can drop the Ticket feature since it's unlikely to yeild any useful information\n",
        "train.drop(['Ticket'], axis = 1, inplace=True)\n",
        "test.drop(['Ticket'], axis=1, inplace=True)"
      ],
      "execution_count": 0,
      "outputs": []
    },
    {
      "metadata": {
        "id": "AXo5OiMk3123",
        "colab_type": "text"
      },
      "cell_type": "markdown",
      "source": [
        "##Embarked Feature"
      ]
    },
    {
      "metadata": {
        "id": "6siMr9I73vxl",
        "colab_type": "code",
        "colab": {
          "base_uri": "https://localhost:8080/",
          "height": 123
        },
        "outputId": "b7606e3c-7169-44eb-c979-d6fdd950642d"
      },
      "cell_type": "code",
      "source": [
        " #now we need to fill in the missing value in the embarked feature\n",
        "  print(\"Number of People embarking in Southampton(S):\")\n",
        "  southampton = train[train['Embarked']== 'S'].shape[0]\n",
        "  print(southampton)\n",
        "  \n",
        "  print(\"Number of People embarking in Cherbourg(C):\")\n",
        "  cherbourg = train[train['Embarked']== 'C'].shape[0]\n",
        "  print(cherbourg)\n",
        "        \n",
        "  print(\"Number of People embarking in Queenstown(Q):\")\n",
        "  queenstown = train[train['Embarked']== 'Q'].shape[0]\n",
        "  print(queenstown)"
      ],
      "execution_count": 19,
      "outputs": [
        {
          "output_type": "stream",
          "text": [
            "Number of People embarking in Southampton(S):\n",
            "644\n",
            "Number of People embarking in Cherbourg(C):\n",
            "168\n",
            "Number of People embarking in Queenstown(Q):\n",
            "77\n"
          ],
          "name": "stdout"
        }
      ]
    },
    {
      "metadata": {
        "id": "69KNaVr55WjU",
        "colab_type": "text"
      },
      "cell_type": "markdown",
      "source": [
        "So its clear that majority of people embarked from southampton. Let's fill the missing values with S."
      ]
    },
    {
      "metadata": {
        "id": "eDYWVBZn5nEQ",
        "colab_type": "code",
        "colab": {}
      },
      "cell_type": "code",
      "source": [
        "#replacing the missing values in the embarked feature with s\n",
        "train = train.fillna({\"Embarked\":\"S\"})"
      ],
      "execution_count": 0,
      "outputs": []
    },
    {
      "metadata": {
        "id": "DXHMUL9t_D-f",
        "colab_type": "text"
      },
      "cell_type": "markdown",
      "source": [
        "##Age Feature\n",
        "\n",
        "Next we'll fill in the missing values in age feature. Since a higher percemtage of values are missing, it would be illogical to fill all of them with the same value(as we did with embarked). Instead, let's try to find a way to pridict the missing age."
      ]
    },
    {
      "metadata": {
        "id": "3e-I9ihUBDXM",
        "colab_type": "text"
      },
      "cell_type": "markdown",
      "source": [
        "First we will get the title of passenger from there name. then, we will try to map then into certain age group."
      ]
    },
    {
      "metadata": {
        "id": "4t34D76__qPe",
        "colab_type": "code",
        "colab": {
          "base_uri": "https://localhost:8080/",
          "height": 587
        },
        "outputId": "9592b4e9-9629-4424-9461-af9830e4c0dd"
      },
      "cell_type": "code",
      "source": [
        "# create a combined group of both dataset\n",
        "combine = [train, test]\n",
        "\n",
        "#extract a title for each Name in the train and test datasets\n",
        "for dataset in combine:\n",
        "  dataset['Title'] = dataset.Name.str.extract('([A-Za-z]+)\\.',expand=False)\n",
        "pd.crosstab(train['Title'], train['Sex'])"
      ],
      "execution_count": 21,
      "outputs": [
        {
          "output_type": "execute_result",
          "data": {
            "text/html": [
              "<div>\n",
              "<style scoped>\n",
              "    .dataframe tbody tr th:only-of-type {\n",
              "        vertical-align: middle;\n",
              "    }\n",
              "\n",
              "    .dataframe tbody tr th {\n",
              "        vertical-align: top;\n",
              "    }\n",
              "\n",
              "    .dataframe thead th {\n",
              "        text-align: right;\n",
              "    }\n",
              "</style>\n",
              "<table border=\"1\" class=\"dataframe\">\n",
              "  <thead>\n",
              "    <tr style=\"text-align: right;\">\n",
              "      <th>Sex</th>\n",
              "      <th>female</th>\n",
              "      <th>male</th>\n",
              "    </tr>\n",
              "    <tr>\n",
              "      <th>Title</th>\n",
              "      <th></th>\n",
              "      <th></th>\n",
              "    </tr>\n",
              "  </thead>\n",
              "  <tbody>\n",
              "    <tr>\n",
              "      <th>Capt</th>\n",
              "      <td>0</td>\n",
              "      <td>1</td>\n",
              "    </tr>\n",
              "    <tr>\n",
              "      <th>Col</th>\n",
              "      <td>0</td>\n",
              "      <td>2</td>\n",
              "    </tr>\n",
              "    <tr>\n",
              "      <th>Countess</th>\n",
              "      <td>1</td>\n",
              "      <td>0</td>\n",
              "    </tr>\n",
              "    <tr>\n",
              "      <th>Don</th>\n",
              "      <td>0</td>\n",
              "      <td>1</td>\n",
              "    </tr>\n",
              "    <tr>\n",
              "      <th>Dr</th>\n",
              "      <td>1</td>\n",
              "      <td>6</td>\n",
              "    </tr>\n",
              "    <tr>\n",
              "      <th>Jonkheer</th>\n",
              "      <td>0</td>\n",
              "      <td>1</td>\n",
              "    </tr>\n",
              "    <tr>\n",
              "      <th>Lady</th>\n",
              "      <td>1</td>\n",
              "      <td>0</td>\n",
              "    </tr>\n",
              "    <tr>\n",
              "      <th>Major</th>\n",
              "      <td>0</td>\n",
              "      <td>2</td>\n",
              "    </tr>\n",
              "    <tr>\n",
              "      <th>Master</th>\n",
              "      <td>0</td>\n",
              "      <td>40</td>\n",
              "    </tr>\n",
              "    <tr>\n",
              "      <th>Miss</th>\n",
              "      <td>182</td>\n",
              "      <td>0</td>\n",
              "    </tr>\n",
              "    <tr>\n",
              "      <th>Mlle</th>\n",
              "      <td>2</td>\n",
              "      <td>0</td>\n",
              "    </tr>\n",
              "    <tr>\n",
              "      <th>Mme</th>\n",
              "      <td>1</td>\n",
              "      <td>0</td>\n",
              "    </tr>\n",
              "    <tr>\n",
              "      <th>Mr</th>\n",
              "      <td>0</td>\n",
              "      <td>517</td>\n",
              "    </tr>\n",
              "    <tr>\n",
              "      <th>Mrs</th>\n",
              "      <td>125</td>\n",
              "      <td>0</td>\n",
              "    </tr>\n",
              "    <tr>\n",
              "      <th>Ms</th>\n",
              "      <td>1</td>\n",
              "      <td>0</td>\n",
              "    </tr>\n",
              "    <tr>\n",
              "      <th>Rev</th>\n",
              "      <td>0</td>\n",
              "      <td>6</td>\n",
              "    </tr>\n",
              "    <tr>\n",
              "      <th>Sir</th>\n",
              "      <td>0</td>\n",
              "      <td>1</td>\n",
              "    </tr>\n",
              "  </tbody>\n",
              "</table>\n",
              "</div>"
            ],
            "text/plain": [
              "Sex       female  male\n",
              "Title                 \n",
              "Capt           0     1\n",
              "Col            0     2\n",
              "Countess       1     0\n",
              "Don            0     1\n",
              "Dr             1     6\n",
              "Jonkheer       0     1\n",
              "Lady           1     0\n",
              "Major          0     2\n",
              "Master         0    40\n",
              "Miss         182     0\n",
              "Mlle           2     0\n",
              "Mme            1     0\n",
              "Mr             0   517\n",
              "Mrs          125     0\n",
              "Ms             1     0\n",
              "Rev            0     6\n",
              "Sir            0     1"
            ]
          },
          "metadata": {
            "tags": []
          },
          "execution_count": 21
        }
      ]
    },
    {
      "metadata": {
        "id": "Rxvy_eu9CIme",
        "colab_type": "code",
        "colab": {
          "base_uri": "https://localhost:8080/",
          "height": 227
        },
        "outputId": "2b314141-74f4-4049-8ebe-94ddb4c8fc0c"
      },
      "cell_type": "code",
      "source": [
        "# Replace various titles with more common names\n",
        "for dataset in combine:\n",
        "  dataset['Title'] = dataset['Title'].replace(['Capt','Col','Don','Dr','Major','Rev','Jonkheer','Dona'],'Rare')\n",
        "  dataset['Title'] = dataset['Title'].replace(['Countess','Lady','Sir'],'Royal')\n",
        "  dataset['Title'] = dataset['Title'].replace(['Mlle','Ms'],'Miss')\n",
        "  dataset['Title'] = dataset['Title'].replace('Mme','Mrs')\n",
        "\n",
        "train[['Title', 'Survived']].groupby(['Title'], as_index=False).mean()  \n",
        "  \n",
        "  "
      ],
      "execution_count": 22,
      "outputs": [
        {
          "output_type": "execute_result",
          "data": {
            "text/html": [
              "<div>\n",
              "<style scoped>\n",
              "    .dataframe tbody tr th:only-of-type {\n",
              "        vertical-align: middle;\n",
              "    }\n",
              "\n",
              "    .dataframe tbody tr th {\n",
              "        vertical-align: top;\n",
              "    }\n",
              "\n",
              "    .dataframe thead th {\n",
              "        text-align: right;\n",
              "    }\n",
              "</style>\n",
              "<table border=\"1\" class=\"dataframe\">\n",
              "  <thead>\n",
              "    <tr style=\"text-align: right;\">\n",
              "      <th></th>\n",
              "      <th>Title</th>\n",
              "      <th>Survived</th>\n",
              "    </tr>\n",
              "  </thead>\n",
              "  <tbody>\n",
              "    <tr>\n",
              "      <th>0</th>\n",
              "      <td>Master</td>\n",
              "      <td>0.575000</td>\n",
              "    </tr>\n",
              "    <tr>\n",
              "      <th>1</th>\n",
              "      <td>Miss</td>\n",
              "      <td>0.702703</td>\n",
              "    </tr>\n",
              "    <tr>\n",
              "      <th>2</th>\n",
              "      <td>Mr</td>\n",
              "      <td>0.156673</td>\n",
              "    </tr>\n",
              "    <tr>\n",
              "      <th>3</th>\n",
              "      <td>Mrs</td>\n",
              "      <td>0.793651</td>\n",
              "    </tr>\n",
              "    <tr>\n",
              "      <th>4</th>\n",
              "      <td>Rare</td>\n",
              "      <td>0.250000</td>\n",
              "    </tr>\n",
              "    <tr>\n",
              "      <th>5</th>\n",
              "      <td>Royal</td>\n",
              "      <td>1.000000</td>\n",
              "    </tr>\n",
              "  </tbody>\n",
              "</table>\n",
              "</div>"
            ],
            "text/plain": [
              "    Title  Survived\n",
              "0  Master  0.575000\n",
              "1    Miss  0.702703\n",
              "2      Mr  0.156673\n",
              "3     Mrs  0.793651\n",
              "4    Rare  0.250000\n",
              "5   Royal  1.000000"
            ]
          },
          "metadata": {
            "tags": []
          },
          "execution_count": 22
        }
      ]
    },
    {
      "metadata": {
        "id": "l3B8JUq2E1Hd",
        "colab_type": "code",
        "colab": {
          "base_uri": "https://localhost:8080/",
          "height": 197
        },
        "outputId": "f926d13f-7402-4ba1-8f8a-dbc178ac143c"
      },
      "cell_type": "code",
      "source": [
        "# Map each title to a numerical number\n",
        "title_mapping = {'Mr':1, 'Miss':2, 'Mrs':3, 'Master':4, 'Royal':5, 'Rare':6}\n",
        "for dataset in combine:\n",
        "  dataset['Title'] = dataset['Title'].map(title_mapping)\n",
        "  dataset['Title'] = dataset['Title'].fillna(0)\n",
        "\n",
        "train.head()"
      ],
      "execution_count": 23,
      "outputs": [
        {
          "output_type": "execute_result",
          "data": {
            "text/html": [
              "<div>\n",
              "<style scoped>\n",
              "    .dataframe tbody tr th:only-of-type {\n",
              "        vertical-align: middle;\n",
              "    }\n",
              "\n",
              "    .dataframe tbody tr th {\n",
              "        vertical-align: top;\n",
              "    }\n",
              "\n",
              "    .dataframe thead th {\n",
              "        text-align: right;\n",
              "    }\n",
              "</style>\n",
              "<table border=\"1\" class=\"dataframe\">\n",
              "  <thead>\n",
              "    <tr style=\"text-align: right;\">\n",
              "      <th></th>\n",
              "      <th>PassengerId</th>\n",
              "      <th>Survived</th>\n",
              "      <th>Pclass</th>\n",
              "      <th>Name</th>\n",
              "      <th>Sex</th>\n",
              "      <th>Age</th>\n",
              "      <th>SibSp</th>\n",
              "      <th>Parch</th>\n",
              "      <th>Fare</th>\n",
              "      <th>Cabin</th>\n",
              "      <th>Embarked</th>\n",
              "      <th>AgeGroup</th>\n",
              "      <th>CabinBool</th>\n",
              "      <th>Title</th>\n",
              "    </tr>\n",
              "  </thead>\n",
              "  <tbody>\n",
              "    <tr>\n",
              "      <th>0</th>\n",
              "      <td>1</td>\n",
              "      <td>0</td>\n",
              "      <td>3</td>\n",
              "      <td>Braund, Mr. Owen Harris</td>\n",
              "      <td>male</td>\n",
              "      <td>22.0</td>\n",
              "      <td>1</td>\n",
              "      <td>0</td>\n",
              "      <td>7.2500</td>\n",
              "      <td>NaN</td>\n",
              "      <td>S</td>\n",
              "      <td>Student</td>\n",
              "      <td>0</td>\n",
              "      <td>1</td>\n",
              "    </tr>\n",
              "    <tr>\n",
              "      <th>1</th>\n",
              "      <td>2</td>\n",
              "      <td>1</td>\n",
              "      <td>1</td>\n",
              "      <td>Cumings, Mrs. John Bradley (Florence Briggs Th...</td>\n",
              "      <td>female</td>\n",
              "      <td>38.0</td>\n",
              "      <td>1</td>\n",
              "      <td>0</td>\n",
              "      <td>71.2833</td>\n",
              "      <td>C85</td>\n",
              "      <td>C</td>\n",
              "      <td>Adult</td>\n",
              "      <td>1</td>\n",
              "      <td>3</td>\n",
              "    </tr>\n",
              "    <tr>\n",
              "      <th>2</th>\n",
              "      <td>3</td>\n",
              "      <td>1</td>\n",
              "      <td>3</td>\n",
              "      <td>Heikkinen, Miss. Laina</td>\n",
              "      <td>female</td>\n",
              "      <td>26.0</td>\n",
              "      <td>0</td>\n",
              "      <td>0</td>\n",
              "      <td>7.9250</td>\n",
              "      <td>NaN</td>\n",
              "      <td>S</td>\n",
              "      <td>Young adult</td>\n",
              "      <td>0</td>\n",
              "      <td>2</td>\n",
              "    </tr>\n",
              "    <tr>\n",
              "      <th>3</th>\n",
              "      <td>4</td>\n",
              "      <td>1</td>\n",
              "      <td>1</td>\n",
              "      <td>Futrelle, Mrs. Jacques Heath (Lily May Peel)</td>\n",
              "      <td>female</td>\n",
              "      <td>35.0</td>\n",
              "      <td>1</td>\n",
              "      <td>0</td>\n",
              "      <td>53.1000</td>\n",
              "      <td>C123</td>\n",
              "      <td>S</td>\n",
              "      <td>Young adult</td>\n",
              "      <td>1</td>\n",
              "      <td>3</td>\n",
              "    </tr>\n",
              "    <tr>\n",
              "      <th>4</th>\n",
              "      <td>5</td>\n",
              "      <td>0</td>\n",
              "      <td>3</td>\n",
              "      <td>Allen, Mr. William Henry</td>\n",
              "      <td>male</td>\n",
              "      <td>35.0</td>\n",
              "      <td>0</td>\n",
              "      <td>0</td>\n",
              "      <td>8.0500</td>\n",
              "      <td>NaN</td>\n",
              "      <td>S</td>\n",
              "      <td>Young adult</td>\n",
              "      <td>0</td>\n",
              "      <td>1</td>\n",
              "    </tr>\n",
              "  </tbody>\n",
              "</table>\n",
              "</div>"
            ],
            "text/plain": [
              "   PassengerId  Survived  Pclass  \\\n",
              "0            1         0       3   \n",
              "1            2         1       1   \n",
              "2            3         1       3   \n",
              "3            4         1       1   \n",
              "4            5         0       3   \n",
              "\n",
              "                                                Name     Sex   Age  SibSp  \\\n",
              "0                            Braund, Mr. Owen Harris    male  22.0      1   \n",
              "1  Cumings, Mrs. John Bradley (Florence Briggs Th...  female  38.0      1   \n",
              "2                             Heikkinen, Miss. Laina  female  26.0      0   \n",
              "3       Futrelle, Mrs. Jacques Heath (Lily May Peel)  female  35.0      1   \n",
              "4                           Allen, Mr. William Henry    male  35.0      0   \n",
              "\n",
              "   Parch     Fare Cabin Embarked     AgeGroup  CabinBool  Title  \n",
              "0      0   7.2500   NaN        S      Student          0      1  \n",
              "1      0  71.2833   C85        C        Adult          1      3  \n",
              "2      0   7.9250   NaN        S  Young adult          0      2  \n",
              "3      0  53.1000  C123        S  Young adult          1      3  \n",
              "4      0   8.0500   NaN        S  Young adult          0      1  "
            ]
          },
          "metadata": {
            "tags": []
          },
          "execution_count": 23
        }
      ]
    },
    {
      "metadata": {
        "id": "OWvOfKLdyCmg",
        "colab_type": "code",
        "colab": {
          "base_uri": "https://localhost:8080/",
          "height": 318
        },
        "outputId": "92d971f1-9152-4461-bbb0-f33edc296eeb"
      },
      "cell_type": "code",
      "source": [
        "# group by Sex, Pclass, and Title\n",
        "#combined = train.append(test,ignore_index=True)\n",
        "grouped = train.groupby(['Sex','Pclass', 'Title'])\n",
        "grouped2 = test.groupby(['Sex','Pclass', 'Title'])\n",
        "# view the median Age by the grouped features \n",
        "grouped.Age.median()\n",
        "grouped2.Age.median()"
      ],
      "execution_count": 24,
      "outputs": [
        {
          "output_type": "execute_result",
          "data": {
            "text/plain": [
              "Sex     Pclass  Title\n",
              "female  1       2        32.0\n",
              "                3        48.0\n",
              "                6        39.0\n",
              "        2       2        19.5\n",
              "                3        29.0\n",
              "        3       2        22.0\n",
              "                3        28.0\n",
              "male    1       1        42.0\n",
              "                4         9.5\n",
              "                6        53.0\n",
              "        2       1        28.0\n",
              "                4         5.0\n",
              "                6        35.5\n",
              "        3       1        25.0\n",
              "                4         7.0\n",
              "Name: Age, dtype: float64"
            ]
          },
          "metadata": {
            "tags": []
          },
          "execution_count": 24
        }
      ]
    },
    {
      "metadata": {
        "id": "3rZJICd5y5iI",
        "colab_type": "text"
      },
      "cell_type": "markdown",
      "source": [
        "Instead of simply filling in the missing Age values with the mean or median age of the dataset, by grouping the data by a passenger’s sex, class, and title, we can drill down a bit deeper and get a closer approximation of what a passenger’s age might have been. Using the grouped.Age variable, we can fill in the missing values for Age."
      ]
    },
    {
      "metadata": {
        "id": "0xtKDe2szBvi",
        "colab_type": "code",
        "colab": {}
      },
      "cell_type": "code",
      "source": [
        "# apply the grouped median value on the Age NaN\n",
        "train.Age = grouped.Age.apply(lambda x: x.fillna(x.median()))\n",
        "test.Age = grouped2.Age.apply(lambda x: x.fillna(x.median()))"
      ],
      "execution_count": 0,
      "outputs": []
    },
    {
      "metadata": {
        "id": "FyFq6cM_5Grd",
        "colab_type": "code",
        "colab": {
          "base_uri": "https://localhost:8080/",
          "height": 692
        },
        "outputId": "66586446-c916-4b4e-a7a0-6294c3ad42f4"
      },
      "cell_type": "code",
      "source": [
        "train.info()\n",
        "print('-'*40)\n",
        "test.info()"
      ],
      "execution_count": 26,
      "outputs": [
        {
          "output_type": "stream",
          "text": [
            "<class 'pandas.core.frame.DataFrame'>\n",
            "RangeIndex: 891 entries, 0 to 890\n",
            "Data columns (total 14 columns):\n",
            "PassengerId    891 non-null int64\n",
            "Survived       891 non-null int64\n",
            "Pclass         891 non-null int64\n",
            "Name           891 non-null object\n",
            "Sex            891 non-null object\n",
            "Age            891 non-null float64\n",
            "SibSp          891 non-null int64\n",
            "Parch          891 non-null int64\n",
            "Fare           891 non-null float64\n",
            "Cabin          204 non-null object\n",
            "Embarked       891 non-null object\n",
            "AgeGroup       714 non-null category\n",
            "CabinBool      891 non-null int64\n",
            "Title          891 non-null int64\n",
            "dtypes: category(1), float64(2), int64(7), object(4)\n",
            "memory usage: 91.8+ KB\n",
            "----------------------------------------\n",
            "<class 'pandas.core.frame.DataFrame'>\n",
            "RangeIndex: 418 entries, 0 to 417\n",
            "Data columns (total 13 columns):\n",
            "PassengerId    418 non-null int64\n",
            "Pclass         418 non-null int64\n",
            "Name           418 non-null object\n",
            "Sex            418 non-null object\n",
            "Age            418 non-null float64\n",
            "SibSp          418 non-null int64\n",
            "Parch          418 non-null int64\n",
            "Fare           417 non-null float64\n",
            "Cabin          91 non-null object\n",
            "Embarked       418 non-null object\n",
            "AgeGroup       332 non-null category\n",
            "CabinBool      418 non-null int64\n",
            "Title          418 non-null int64\n",
            "dtypes: category(1), float64(2), int64(6), object(4)\n",
            "memory usage: 40.0+ KB\n"
          ],
          "name": "stdout"
        }
      ]
    },
    {
      "metadata": {
        "id": "D9fLaE2v3WVw",
        "colab_type": "text"
      },
      "cell_type": "markdown",
      "source": [
        "##Name Feature\n",
        "\n",
        "we can drop name feature now as we've extracted the title."
      ]
    },
    {
      "metadata": {
        "id": "93ms3bjU3if6",
        "colab_type": "code",
        "colab": {}
      },
      "cell_type": "code",
      "source": [
        "#drop the name feature\n",
        "train.drop(['Name'], axis = 1, inplace=True)\n",
        "test.drop(['Name'],axis = 1, inplace=True)"
      ],
      "execution_count": 0,
      "outputs": []
    },
    {
      "metadata": {
        "id": "3wFw1E_aDYD_",
        "colab_type": "text"
      },
      "cell_type": "markdown",
      "source": [
        "##Sex Feature"
      ]
    },
    {
      "metadata": {
        "id": "Z4pyfZNxDeRV",
        "colab_type": "code",
        "colab": {
          "base_uri": "https://localhost:8080/",
          "height": 197
        },
        "outputId": "4ceb2899-837f-44af-f660-21207e0350e3"
      },
      "cell_type": "code",
      "source": [
        "# map each sex value to anumerical value\n",
        "sex_mapping = {\"male\":0,\"female\":1}\n",
        "train['Sex'] = train['Sex'].map(sex_mapping)\n",
        "test['Sex'] = test['Sex'].map(sex_mapping)\n",
        "\n",
        "train.head()"
      ],
      "execution_count": 28,
      "outputs": [
        {
          "output_type": "execute_result",
          "data": {
            "text/html": [
              "<div>\n",
              "<style scoped>\n",
              "    .dataframe tbody tr th:only-of-type {\n",
              "        vertical-align: middle;\n",
              "    }\n",
              "\n",
              "    .dataframe tbody tr th {\n",
              "        vertical-align: top;\n",
              "    }\n",
              "\n",
              "    .dataframe thead th {\n",
              "        text-align: right;\n",
              "    }\n",
              "</style>\n",
              "<table border=\"1\" class=\"dataframe\">\n",
              "  <thead>\n",
              "    <tr style=\"text-align: right;\">\n",
              "      <th></th>\n",
              "      <th>PassengerId</th>\n",
              "      <th>Survived</th>\n",
              "      <th>Pclass</th>\n",
              "      <th>Sex</th>\n",
              "      <th>Age</th>\n",
              "      <th>SibSp</th>\n",
              "      <th>Parch</th>\n",
              "      <th>Fare</th>\n",
              "      <th>Cabin</th>\n",
              "      <th>Embarked</th>\n",
              "      <th>AgeGroup</th>\n",
              "      <th>CabinBool</th>\n",
              "      <th>Title</th>\n",
              "    </tr>\n",
              "  </thead>\n",
              "  <tbody>\n",
              "    <tr>\n",
              "      <th>0</th>\n",
              "      <td>1</td>\n",
              "      <td>0</td>\n",
              "      <td>3</td>\n",
              "      <td>0</td>\n",
              "      <td>22.0</td>\n",
              "      <td>1</td>\n",
              "      <td>0</td>\n",
              "      <td>7.2500</td>\n",
              "      <td>NaN</td>\n",
              "      <td>S</td>\n",
              "      <td>Student</td>\n",
              "      <td>0</td>\n",
              "      <td>1</td>\n",
              "    </tr>\n",
              "    <tr>\n",
              "      <th>1</th>\n",
              "      <td>2</td>\n",
              "      <td>1</td>\n",
              "      <td>1</td>\n",
              "      <td>1</td>\n",
              "      <td>38.0</td>\n",
              "      <td>1</td>\n",
              "      <td>0</td>\n",
              "      <td>71.2833</td>\n",
              "      <td>C85</td>\n",
              "      <td>C</td>\n",
              "      <td>Adult</td>\n",
              "      <td>1</td>\n",
              "      <td>3</td>\n",
              "    </tr>\n",
              "    <tr>\n",
              "      <th>2</th>\n",
              "      <td>3</td>\n",
              "      <td>1</td>\n",
              "      <td>3</td>\n",
              "      <td>1</td>\n",
              "      <td>26.0</td>\n",
              "      <td>0</td>\n",
              "      <td>0</td>\n",
              "      <td>7.9250</td>\n",
              "      <td>NaN</td>\n",
              "      <td>S</td>\n",
              "      <td>Young adult</td>\n",
              "      <td>0</td>\n",
              "      <td>2</td>\n",
              "    </tr>\n",
              "    <tr>\n",
              "      <th>3</th>\n",
              "      <td>4</td>\n",
              "      <td>1</td>\n",
              "      <td>1</td>\n",
              "      <td>1</td>\n",
              "      <td>35.0</td>\n",
              "      <td>1</td>\n",
              "      <td>0</td>\n",
              "      <td>53.1000</td>\n",
              "      <td>C123</td>\n",
              "      <td>S</td>\n",
              "      <td>Young adult</td>\n",
              "      <td>1</td>\n",
              "      <td>3</td>\n",
              "    </tr>\n",
              "    <tr>\n",
              "      <th>4</th>\n",
              "      <td>5</td>\n",
              "      <td>0</td>\n",
              "      <td>3</td>\n",
              "      <td>0</td>\n",
              "      <td>35.0</td>\n",
              "      <td>0</td>\n",
              "      <td>0</td>\n",
              "      <td>8.0500</td>\n",
              "      <td>NaN</td>\n",
              "      <td>S</td>\n",
              "      <td>Young adult</td>\n",
              "      <td>0</td>\n",
              "      <td>1</td>\n",
              "    </tr>\n",
              "  </tbody>\n",
              "</table>\n",
              "</div>"
            ],
            "text/plain": [
              "   PassengerId  Survived  Pclass  Sex   Age  SibSp  Parch     Fare Cabin  \\\n",
              "0            1         0       3    0  22.0      1      0   7.2500   NaN   \n",
              "1            2         1       1    1  38.0      1      0  71.2833   C85   \n",
              "2            3         1       3    1  26.0      0      0   7.9250   NaN   \n",
              "3            4         1       1    1  35.0      1      0  53.1000  C123   \n",
              "4            5         0       3    0  35.0      0      0   8.0500   NaN   \n",
              "\n",
              "  Embarked     AgeGroup  CabinBool  Title  \n",
              "0        S      Student          0      1  \n",
              "1        C        Adult          1      3  \n",
              "2        S  Young adult          0      2  \n",
              "3        S  Young adult          1      3  \n",
              "4        S  Young adult          0      1  "
            ]
          },
          "metadata": {
            "tags": []
          },
          "execution_count": 28
        }
      ]
    },
    {
      "metadata": {
        "id": "TGzIpFyyEVhI",
        "colab_type": "code",
        "colab": {}
      },
      "cell_type": "code",
      "source": [
        "train.drop('AgeGroup',axis=1,inplace=True)\n",
        "test.drop('AgeGroup',axis=1,inplace=True)"
      ],
      "execution_count": 0,
      "outputs": []
    },
    {
      "metadata": {
        "id": "Z3ZggEKANQts",
        "colab_type": "code",
        "colab": {
          "base_uri": "https://localhost:8080/",
          "height": 603
        },
        "outputId": "a8c52402-a08f-4ef7-8f92-dca610dff27e"
      },
      "cell_type": "code",
      "source": [
        "train.info()\n",
        "test.info()"
      ],
      "execution_count": 30,
      "outputs": [
        {
          "output_type": "stream",
          "text": [
            "<class 'pandas.core.frame.DataFrame'>\n",
            "RangeIndex: 891 entries, 0 to 890\n",
            "Data columns (total 12 columns):\n",
            "PassengerId    891 non-null int64\n",
            "Survived       891 non-null int64\n",
            "Pclass         891 non-null int64\n",
            "Sex            891 non-null int64\n",
            "Age            891 non-null float64\n",
            "SibSp          891 non-null int64\n",
            "Parch          891 non-null int64\n",
            "Fare           891 non-null float64\n",
            "Cabin          204 non-null object\n",
            "Embarked       891 non-null object\n",
            "CabinBool      891 non-null int64\n",
            "Title          891 non-null int64\n",
            "dtypes: float64(2), int64(8), object(2)\n",
            "memory usage: 83.6+ KB\n",
            "<class 'pandas.core.frame.DataFrame'>\n",
            "RangeIndex: 418 entries, 0 to 417\n",
            "Data columns (total 11 columns):\n",
            "PassengerId    418 non-null int64\n",
            "Pclass         418 non-null int64\n",
            "Sex            418 non-null int64\n",
            "Age            418 non-null float64\n",
            "SibSp          418 non-null int64\n",
            "Parch          418 non-null int64\n",
            "Fare           417 non-null float64\n",
            "Cabin          91 non-null object\n",
            "Embarked       418 non-null object\n",
            "CabinBool      418 non-null int64\n",
            "Title          418 non-null int64\n",
            "dtypes: float64(2), int64(7), object(2)\n",
            "memory usage: 36.0+ KB\n"
          ],
          "name": "stdout"
        }
      ]
    },
    {
      "metadata": {
        "id": "3z8VWx0hNw3t",
        "colab_type": "text"
      },
      "cell_type": "markdown",
      "source": [
        "##Embarked Feature"
      ]
    },
    {
      "metadata": {
        "id": "Df6KSwO_N0U0",
        "colab_type": "code",
        "colab": {}
      },
      "cell_type": "code",
      "source": [
        "# Map each Embarked value to a numerical value\n",
        "embarked_mapping = {'S':1,'C':2,'Q':3}\n",
        "train['Embarked'] = train['Embarked'].map(embarked_mapping)\n",
        "test['Embarked'] = test['Embarked'].map(embarked_mapping)\n"
      ],
      "execution_count": 0,
      "outputs": []
    },
    {
      "metadata": {
        "id": "V6rgv2gfPZqx",
        "colab_type": "code",
        "colab": {}
      },
      "cell_type": "code",
      "source": [
        "#Drop the cabin Feature\n",
        "train.drop('Cabin',axis=1,inplace=True)\n",
        "test.drop('Cabin',axis=1,inplace=True)"
      ],
      "execution_count": 0,
      "outputs": []
    },
    {
      "metadata": {
        "id": "eiWOLfwLQIA1",
        "colab_type": "text"
      },
      "cell_type": "markdown",
      "source": [
        "##Fare Feature\n",
        "We will seaperate the fare value into logical groups as well as filling in single missing value in the dataset."
      ]
    },
    {
      "metadata": {
        "id": "dmn3E18UQZpq",
        "colab_type": "code",
        "colab": {}
      },
      "cell_type": "code",
      "source": [
        "#fill in the missing Fare value in Test set based on mean fare for that Pclass\n",
        "for x in range(len(test['Fare'])):\n",
        "  if pd.isnull(test['Fare'][x]):\n",
        "    pclass = test['Pclass'][x]  #Pclass = 3\n",
        "    test['Fare'][x] = round(train[train['Pclass'] == pclass]['Fare'].mean(), 4)\n",
        "    \n",
        "# maping Fare into Group of numerical values\n",
        "train['FareBand'] = pd.qcut(train['Fare'], 4, labels = [1, 2, 3, 4])\n",
        "test['FareBand'] = pd.qcut(test['Fare'], 4, labels = [1, 2, 3, 4])\n",
        "\n",
        "#drop Fare values\n",
        "train.drop(['Fare'],axis=1,inplace=True)\n",
        "test.drop(['Fare'],axis=1,inplace=True)"
      ],
      "execution_count": 0,
      "outputs": []
    },
    {
      "metadata": {
        "id": "M5XltjTaR7Er",
        "colab_type": "code",
        "colab": {
          "base_uri": "https://localhost:8080/",
          "height": 197
        },
        "outputId": "2d7cf086-aa41-4f34-f31e-30b8e2269db1"
      },
      "cell_type": "code",
      "source": [
        "train.head()"
      ],
      "execution_count": 34,
      "outputs": [
        {
          "output_type": "execute_result",
          "data": {
            "text/html": [
              "<div>\n",
              "<style scoped>\n",
              "    .dataframe tbody tr th:only-of-type {\n",
              "        vertical-align: middle;\n",
              "    }\n",
              "\n",
              "    .dataframe tbody tr th {\n",
              "        vertical-align: top;\n",
              "    }\n",
              "\n",
              "    .dataframe thead th {\n",
              "        text-align: right;\n",
              "    }\n",
              "</style>\n",
              "<table border=\"1\" class=\"dataframe\">\n",
              "  <thead>\n",
              "    <tr style=\"text-align: right;\">\n",
              "      <th></th>\n",
              "      <th>PassengerId</th>\n",
              "      <th>Survived</th>\n",
              "      <th>Pclass</th>\n",
              "      <th>Sex</th>\n",
              "      <th>Age</th>\n",
              "      <th>SibSp</th>\n",
              "      <th>Parch</th>\n",
              "      <th>Embarked</th>\n",
              "      <th>CabinBool</th>\n",
              "      <th>Title</th>\n",
              "      <th>FareBand</th>\n",
              "    </tr>\n",
              "  </thead>\n",
              "  <tbody>\n",
              "    <tr>\n",
              "      <th>0</th>\n",
              "      <td>1</td>\n",
              "      <td>0</td>\n",
              "      <td>3</td>\n",
              "      <td>0</td>\n",
              "      <td>22.0</td>\n",
              "      <td>1</td>\n",
              "      <td>0</td>\n",
              "      <td>1</td>\n",
              "      <td>0</td>\n",
              "      <td>1</td>\n",
              "      <td>1</td>\n",
              "    </tr>\n",
              "    <tr>\n",
              "      <th>1</th>\n",
              "      <td>2</td>\n",
              "      <td>1</td>\n",
              "      <td>1</td>\n",
              "      <td>1</td>\n",
              "      <td>38.0</td>\n",
              "      <td>1</td>\n",
              "      <td>0</td>\n",
              "      <td>2</td>\n",
              "      <td>1</td>\n",
              "      <td>3</td>\n",
              "      <td>4</td>\n",
              "    </tr>\n",
              "    <tr>\n",
              "      <th>2</th>\n",
              "      <td>3</td>\n",
              "      <td>1</td>\n",
              "      <td>3</td>\n",
              "      <td>1</td>\n",
              "      <td>26.0</td>\n",
              "      <td>0</td>\n",
              "      <td>0</td>\n",
              "      <td>1</td>\n",
              "      <td>0</td>\n",
              "      <td>2</td>\n",
              "      <td>2</td>\n",
              "    </tr>\n",
              "    <tr>\n",
              "      <th>3</th>\n",
              "      <td>4</td>\n",
              "      <td>1</td>\n",
              "      <td>1</td>\n",
              "      <td>1</td>\n",
              "      <td>35.0</td>\n",
              "      <td>1</td>\n",
              "      <td>0</td>\n",
              "      <td>1</td>\n",
              "      <td>1</td>\n",
              "      <td>3</td>\n",
              "      <td>4</td>\n",
              "    </tr>\n",
              "    <tr>\n",
              "      <th>4</th>\n",
              "      <td>5</td>\n",
              "      <td>0</td>\n",
              "      <td>3</td>\n",
              "      <td>0</td>\n",
              "      <td>35.0</td>\n",
              "      <td>0</td>\n",
              "      <td>0</td>\n",
              "      <td>1</td>\n",
              "      <td>0</td>\n",
              "      <td>1</td>\n",
              "      <td>2</td>\n",
              "    </tr>\n",
              "  </tbody>\n",
              "</table>\n",
              "</div>"
            ],
            "text/plain": [
              "   PassengerId  Survived  Pclass  Sex   Age  SibSp  Parch  Embarked  \\\n",
              "0            1         0       3    0  22.0      1      0         1   \n",
              "1            2         1       1    1  38.0      1      0         2   \n",
              "2            3         1       3    1  26.0      0      0         1   \n",
              "3            4         1       1    1  35.0      1      0         1   \n",
              "4            5         0       3    0  35.0      0      0         1   \n",
              "\n",
              "   CabinBool  Title FareBand  \n",
              "0          0      1        1  \n",
              "1          1      3        4  \n",
              "2          0      2        2  \n",
              "3          1      3        4  \n",
              "4          0      1        2  "
            ]
          },
          "metadata": {
            "tags": []
          },
          "execution_count": 34
        }
      ]
    },
    {
      "metadata": {
        "id": "0P3tV5lsSVLL",
        "colab_type": "code",
        "colab": {
          "base_uri": "https://localhost:8080/",
          "height": 197
        },
        "outputId": "3fb1f742-7a93-44f2-b8a8-fbf099141225"
      },
      "cell_type": "code",
      "source": [
        "test.head()"
      ],
      "execution_count": 35,
      "outputs": [
        {
          "output_type": "execute_result",
          "data": {
            "text/html": [
              "<div>\n",
              "<style scoped>\n",
              "    .dataframe tbody tr th:only-of-type {\n",
              "        vertical-align: middle;\n",
              "    }\n",
              "\n",
              "    .dataframe tbody tr th {\n",
              "        vertical-align: top;\n",
              "    }\n",
              "\n",
              "    .dataframe thead th {\n",
              "        text-align: right;\n",
              "    }\n",
              "</style>\n",
              "<table border=\"1\" class=\"dataframe\">\n",
              "  <thead>\n",
              "    <tr style=\"text-align: right;\">\n",
              "      <th></th>\n",
              "      <th>PassengerId</th>\n",
              "      <th>Pclass</th>\n",
              "      <th>Sex</th>\n",
              "      <th>Age</th>\n",
              "      <th>SibSp</th>\n",
              "      <th>Parch</th>\n",
              "      <th>Embarked</th>\n",
              "      <th>CabinBool</th>\n",
              "      <th>Title</th>\n",
              "      <th>FareBand</th>\n",
              "    </tr>\n",
              "  </thead>\n",
              "  <tbody>\n",
              "    <tr>\n",
              "      <th>0</th>\n",
              "      <td>892</td>\n",
              "      <td>3</td>\n",
              "      <td>0</td>\n",
              "      <td>34.5</td>\n",
              "      <td>0</td>\n",
              "      <td>0</td>\n",
              "      <td>3</td>\n",
              "      <td>0</td>\n",
              "      <td>1</td>\n",
              "      <td>1</td>\n",
              "    </tr>\n",
              "    <tr>\n",
              "      <th>1</th>\n",
              "      <td>893</td>\n",
              "      <td>3</td>\n",
              "      <td>1</td>\n",
              "      <td>47.0</td>\n",
              "      <td>1</td>\n",
              "      <td>0</td>\n",
              "      <td>1</td>\n",
              "      <td>0</td>\n",
              "      <td>3</td>\n",
              "      <td>1</td>\n",
              "    </tr>\n",
              "    <tr>\n",
              "      <th>2</th>\n",
              "      <td>894</td>\n",
              "      <td>2</td>\n",
              "      <td>0</td>\n",
              "      <td>62.0</td>\n",
              "      <td>0</td>\n",
              "      <td>0</td>\n",
              "      <td>3</td>\n",
              "      <td>0</td>\n",
              "      <td>1</td>\n",
              "      <td>2</td>\n",
              "    </tr>\n",
              "    <tr>\n",
              "      <th>3</th>\n",
              "      <td>895</td>\n",
              "      <td>3</td>\n",
              "      <td>0</td>\n",
              "      <td>27.0</td>\n",
              "      <td>0</td>\n",
              "      <td>0</td>\n",
              "      <td>1</td>\n",
              "      <td>0</td>\n",
              "      <td>1</td>\n",
              "      <td>2</td>\n",
              "    </tr>\n",
              "    <tr>\n",
              "      <th>4</th>\n",
              "      <td>896</td>\n",
              "      <td>3</td>\n",
              "      <td>1</td>\n",
              "      <td>22.0</td>\n",
              "      <td>1</td>\n",
              "      <td>1</td>\n",
              "      <td>1</td>\n",
              "      <td>0</td>\n",
              "      <td>3</td>\n",
              "      <td>2</td>\n",
              "    </tr>\n",
              "  </tbody>\n",
              "</table>\n",
              "</div>"
            ],
            "text/plain": [
              "   PassengerId  Pclass  Sex   Age  SibSp  Parch  Embarked  CabinBool  Title  \\\n",
              "0          892       3    0  34.5      0      0         3          0      1   \n",
              "1          893       3    1  47.0      1      0         1          0      3   \n",
              "2          894       2    0  62.0      0      0         3          0      1   \n",
              "3          895       3    0  27.0      0      0         1          0      1   \n",
              "4          896       3    1  22.0      1      1         1          0      3   \n",
              "\n",
              "  FareBand  \n",
              "0        1  \n",
              "1        1  \n",
              "2        2  \n",
              "3        2  \n",
              "4        2  "
            ]
          },
          "metadata": {
            "tags": []
          },
          "execution_count": 35
        }
      ]
    },
    {
      "metadata": {
        "id": "jMYmDrHVSmUp",
        "colab_type": "text"
      },
      "cell_type": "markdown",
      "source": [
        "#6) Choosing the best model\n",
        "\n",
        "## Spliting the Training Data\n",
        "We will use part of our traing data(22% in this case) to test accuracy of our different models.\n"
      ]
    },
    {
      "metadata": {
        "id": "l8i3zasrTJ0v",
        "colab_type": "code",
        "colab": {}
      },
      "cell_type": "code",
      "source": [
        "from sklearn.model_selection import train_test_split\n",
        "\n",
        "predictors = train.drop(['Survived', 'PassengerId'], axis=1)\n",
        "target = train['Survived']\n",
        "x_train, x_val, y_train, y_val = train_test_split(predictors, target, test_size = 0.22, random_state = 0)"
      ],
      "execution_count": 0,
      "outputs": []
    },
    {
      "metadata": {
        "id": "JdWFe82UUZqH",
        "colab_type": "text"
      },
      "cell_type": "markdown",
      "source": [
        "##Model\n",
        "Here i will be using Support Vector Machine(SVM) to predict my output."
      ]
    },
    {
      "metadata": {
        "id": "dmElqq5AUoe6",
        "colab_type": "code",
        "colab": {
          "base_uri": "https://localhost:8080/",
          "height": 34
        },
        "outputId": "8ff95303-6626-45b3-cf9a-8105917470be"
      },
      "cell_type": "code",
      "source": [
        "#SVM model\n",
        "from sklearn.svm import SVC\n",
        "from sklearn.metrics import accuracy_score\n",
        "\n",
        "svc = SVC()\n",
        "svc.fit(x_train, y_train)\n",
        "y_pred = svc.predict(x_val)\n",
        "acc_svc = round(accuracy_score(y_pred, y_val) * 100, 2)\n",
        "print(acc_svc)"
      ],
      "execution_count": 37,
      "outputs": [
        {
          "output_type": "stream",
          "text": [
            "83.25\n"
          ],
          "name": "stdout"
        }
      ]
    },
    {
      "metadata": {
        "id": "4hvkMbqeXmRm",
        "colab_type": "text"
      },
      "cell_type": "markdown",
      "source": [
        "#7) Creating Submission File\n",
        "it's time to create a submission.csv file to upload to the Kaggle Compettiton!\n"
      ]
    },
    {
      "metadata": {
        "id": "1nnvNUFKsh-l",
        "colab_type": "code",
        "colab": {}
      },
      "cell_type": "code",
      "source": [
        "#set ids as PassengeId and predict survival\n",
        "ids = test['PassengerId']\n",
        "predictions = svc.predict(test.drop('PassengerId', axis=1))\n",
        "\n",
        "#set the output as a dataframe and convert to csv file named submission.csv\n",
        "output = pd.DataFrame({'PassengerId':ids, 'Survived':predictions})\n",
        "output.to_csv('submission.csv', index=False)"
      ],
      "execution_count": 0,
      "outputs": []
    },
    {
      "metadata": {
        "id": "S01xoUTlskpf",
        "colab_type": "code",
        "colab": {}
      },
      "cell_type": "code",
      "source": [
        "#This give a list of folder and ids in your google drive\n",
        "file_list = drive.ListFile({'q': \"'root' in parents and trashed=false\"}).GetList()\n",
        "for file1 in file_list:\n",
        "  print('title: %s, id: %s' % (file1['title'], file1['id']))"
      ],
      "execution_count": 0,
      "outputs": []
    },
    {
      "metadata": {
        "id": "4R6H2teFTQaA",
        "colab_type": "code",
        "colab": {}
      },
      "cell_type": "code",
      "source": [
        "# Copy the id of the folder where you want to save the submission file\n",
        "file = drive.CreateFile({'parents':[{u'id': '1k07cPswDphxQ7ru58fd5kLQ-ZiAy6_uZ'}]}) \n",
        "file.SetContentFile(\"submission.csv\")\n",
        "file.Upload()"
      ],
      "execution_count": 0,
      "outputs": []
    }
  ]
}